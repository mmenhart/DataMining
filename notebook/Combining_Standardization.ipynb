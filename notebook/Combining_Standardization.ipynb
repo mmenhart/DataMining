{
 "cells": [
  {
   "cell_type": "code",
   "execution_count": 1,
   "metadata": {
    "collapsed": true
   },
   "outputs": [],
   "source": [
    "# Import required libraries\n",
    "import pandas as pd\n",
    "import numpy as np\n",
    "import re\n",
    "from re import match, search\n",
    "from time import gmtime, strftime"
   ]
  },
  {
   "cell_type": "code",
   "execution_count": 2,
   "metadata": {
    "collapsed": true
   },
   "outputs": [],
   "source": [
    "# import csv dataset as pandas dataframe\n",
    "odi_dataframe = pd.read_csv(\"../data/ODI-2018.csv\", sep=',')"
   ]
  },
  {
   "cell_type": "code",
   "execution_count": 3,
   "metadata": {
    "collapsed": false
   },
   "outputs": [
    {
     "name": "stdout",
     "output_type": "stream",
     "text": [
      "           Timestamp               What programme are you in?  \\\n",
      "0                NaN                                      NaN   \n",
      "1  4/5/2018 11:22:56  Duisenberg Quantitative Risk Management   \n",
      "2  4/5/2018 11:23:04                         Computer Science   \n",
      "3  4/5/2018 11:23:06                       Business Analytics   \n",
      "4  4/5/2018 11:23:50                                       BA   \n",
      "\n",
      "  Have you taken a course on machine learning?  \\\n",
      "0                                          NaN   \n",
      "1                                           no   \n",
      "2                                           no   \n",
      "3                                          yes   \n",
      "4                                          yes   \n",
      "\n",
      "  Have you taken a course on information retrieval?  \\\n",
      "0                                               NaN   \n",
      "1                                                 0   \n",
      "2                                                 0   \n",
      "3                                                 1   \n",
      "4                                                 1   \n",
      "\n",
      "  Have you taken a course on statistics?  \\\n",
      "0                                    NaN   \n",
      "1                                     mu   \n",
      "2                                unknown   \n",
      "3                                  sigma   \n",
      "4                                     mu   \n",
      "\n",
      "  Have you taken a course on databases? What is your gender?  \\\n",
      "0                                   NaN                  NaN   \n",
      "1                                   nee                 male   \n",
      "2                                    ja                 male   \n",
      "3                                    ja                 male   \n",
      "4                                    ja                 male   \n",
      "\n",
      "                    Chocolate makes you..... When is your birthday (date)?  \\\n",
      "0                                        NaN                           NaN   \n",
      "1                                    neither                    10/12/1994   \n",
      "2  I have no idea what you are talking about                    06-08-1993   \n",
      "3                                    neither                25 december 92   \n",
      "4  I have no idea what you are talking about                    01-02-1995   \n",
      "\n",
      "  Number of neighbors sitting around you? Did you stand up?  \\\n",
      "0                                     NaN               NaN   \n",
      "1                                   49000                no   \n",
      "2                                     100               yes   \n",
      "3                                       5                no   \n",
      "4                                       2                no   \n",
      "\n",
      "  You can get £100 if you win a local DM competition, or we don’t hold any competitions and I give everyone some money (not the same amount!). How much do you think you would get then?   \\\n",
      "0                                                NaN                                                                                                                                        \n",
      "1                                               0.05                                                                                                                                        \n",
      "2                                        The formmer                                                                                                                                        \n",
      "3                                         Not enough                                                                                                                                        \n",
      "4                                                  0                                                                                                                                        \n",
      "\n",
      "  Give a random number Time you went to be Yesterday  \\\n",
      "0                  NaN                           NaN   \n",
      "1                    7                             1   \n",
      "2               394749                         1 a m   \n",
      "3                    6                            23   \n",
      "4                    8                           0.3   \n",
      "\n",
      "  What makes a good day for you (1)? What makes a good day for you (2)?  \n",
      "0                                NaN                                NaN  \n",
      "1                         Productive                         Good sleep  \n",
      "2                          got a 8.5                         got 2 8.5s  \n",
      "3                               Food                              Sport  \n",
      "4                                  -                                  -  \n"
     ]
    }
   ],
   "source": [
    "#check header\n",
    "print(odi_dataframe.head())"
   ]
  },
  {
   "cell_type": "code",
   "execution_count": 4,
   "metadata": {
    "collapsed": true
   },
   "outputs": [],
   "source": [
    "#copy to working dataframe\n",
    "odi_df = odi_dataframe.copy()\n",
    "#We an irrelevant first row with NaN values: let's remove it\n",
    "odi_df = odi_df.iloc[1:]"
   ]
  },
  {
   "cell_type": "code",
   "execution_count": 5,
   "metadata": {
    "collapsed": true
   },
   "outputs": [],
   "source": [
    "# Changing the headers\n",
    "odi_df.rename(columns={'Time you went to be Yesterday':'bedtime', 'When is your birthday (date)?':'Birthday', 'What is your gender?':'gender', 'What programme are you in?':'program', 'Have you taken a course on machine learning?':'MLcourse', 'Have you taken a course on statistics?':'StatsCourse', 'Have you taken a course on information retrieval?':'IRcourse', 'Have you taken a course on databases?':'DBcourse'}, inplace=True)\n",
    "odi_df.rename(columns={'Number of neighbors sitting around you?':'neighbors', 'Did you stand up?':'stand', 'Give a random number':'rndnum', 'What makes a good day for you (1)?':'goodDay1', 'What makes a good day for you (2)?':'goodDay2', 'Chocolate makes you.....':'choco_op', 'You can get £100 if you win a local DM competition, or we don’t hold any competitions and I give everyone some money (not the same amount!). How much do you think you would get then? ':'money'}, inplace=True)"
   ]
  },
  {
   "cell_type": "code",
   "execution_count": 6,
   "metadata": {
    "collapsed": false
   },
   "outputs": [
    {
     "name": "stdout",
     "output_type": "stream",
     "text": [
      "           Timestamp                                        program MLcourse  \\\n",
      "1  4/5/2018 11:22:56        Duisenberg Quantitative Risk Management       no   \n",
      "2  4/5/2018 11:23:04                               Computer Science       no   \n",
      "3  4/5/2018 11:23:06                             Business Analytics      yes   \n",
      "4  4/5/2018 11:23:50                                             BA      yes   \n",
      "5  4/5/2018 11:23:59  Master Computer Science: Big Data Engineering       no   \n",
      "\n",
      "  IRcourse StatsCourse DBcourse gender  \\\n",
      "1        0          mu      nee   male   \n",
      "2        0     unknown       ja   male   \n",
      "3        1       sigma       ja   male   \n",
      "4        1          mu       ja   male   \n",
      "5        0       sigma       ja   male   \n",
      "\n",
      "                                    choco_op        Birthday neighbors stand  \\\n",
      "1                                    neither      10/12/1994     49000    no   \n",
      "2  I have no idea what you are talking about      06-08-1993       100   yes   \n",
      "3                                    neither  25 december 92         5    no   \n",
      "4  I have no idea what you are talking about      01-02-1995         2    no   \n",
      "5  I have no idea what you are talking about      09.01.1994         6    no   \n",
      "\n",
      "         money  rndnum bedtime    goodDay1    goodDay2  \n",
      "1         0.05       7       1  Productive  Good sleep  \n",
      "2  The formmer  394749   1 a m   got a 8.5  got 2 8.5s  \n",
      "3   Not enough       6      23        Food       Sport  \n",
      "4            0       8     0.3           -           -  \n",
      "5            0       8    0:00       sleep        beer  \n"
     ]
    }
   ],
   "source": [
    "print(odi_df.head())"
   ]
  },
  {
   "cell_type": "code",
   "execution_count": 7,
   "metadata": {
    "collapsed": true
   },
   "outputs": [],
   "source": [
    "# Function for standardizing free response features\n",
    "def set_to_standard(series, regexs, std_value):\n",
    "   \n",
    "   changed_values = []\n",
    "   indices = []\n",
    "   std_series = series.copy()\n",
    "   \n",
    "   for index, value in std_series.iteritems():\n",
    "      for regex in regexs:\n",
    "         \n",
    "         if index in indices: #prevents an entry to be counted twice\n",
    "            continue\n",
    "         m = match(regex, value) #find match for any of the reg. expressions\n",
    "         \n",
    "      if m is not None: # if there's a match\n",
    "         changed_values.append(value)\n",
    "         indices.append(index)\n",
    "         \n",
    "   changed_values = pd.Series((v for v in changed_values))\n",
    "\n",
    "   print(\"The following \" + str(len(changed_values)) + \" values have been changed to: \" + std_value)\n",
    "   print(\"\")\n",
    "   \n",
    "   print(changed_values.value_counts())\n",
    "   \n",
    "   std_series[indices] = std_value\n",
    "   \n",
    "   return std_series"
   ]
  },
  {
   "cell_type": "markdown",
   "metadata": {},
   "source": [
    "Now we're going to start filtering the free response features using the above function. The first will be goodDay1."
   ]
  },
  {
   "cell_type": "code",
   "execution_count": 8,
   "metadata": {
    "collapsed": false
   },
   "outputs": [
    {
     "name": "stdout",
     "output_type": "stream",
     "text": [
      "The following 51 values have been changed to: weather\n",
      "\n",
      "Sun                          14\n",
      "Sunshine                      6\n",
      "sunshine                      2\n",
      "nice weather                  2\n",
      "Sunny weather                 2\n",
      "Nice weather                  2\n",
      "good weather                  2\n",
      "sun                           2\n",
      "sunny weather                 2\n",
      "Good weather                  2\n",
      "Sunny day                     2\n",
      "No rain                       1\n",
      "Sunshine, structure           1\n",
      "If the sun shines             1\n",
      "Sunny weather                 1\n",
      "Nice weather                  1\n",
      "Snow                          1\n",
      "Sunny                         1\n",
      "no rain                       1\n",
      "Sun, music, friends, beer     1\n",
      "Weather                       1\n",
      "Cloudy skies                  1\n",
      "Sun                           1\n",
      "The Sun                       1\n",
      "dtype: int64\n"
     ]
    }
   ],
   "source": [
    "# Filter for mention of weather\n",
    "sun_regexs = [r\"(.*[Ss]un).*|.*[Ww]eather.*|.*[Cc]loud.*|.*(?<![Tt])[Rr]ain.*|.*[Ss]now.*|.*[Ww]ind.*|[Ss]tor\"]\n",
    "standard_1 = set_to_standard(odi_df.goodDay1, sun_regexs, 'weather')"
   ]
  },
  {
   "cell_type": "code",
   "execution_count": 9,
   "metadata": {
    "collapsed": false
   },
   "outputs": [
    {
     "name": "stdout",
     "output_type": "stream",
     "text": [
      "The following 43 values have been changed to: food\n",
      "\n",
      "Food                      11\n",
      "Good food                  5\n",
      "Chocolate                  4\n",
      "Nice food                  2\n",
      "good food                  2\n",
      "Pizza                      2\n",
      "Receiving food             1\n",
      "good dinner                1\n",
      "Cheese                     1\n",
      "Good fuckin breakfast      1\n",
      "Good dinner                1\n",
      "Good food                  1\n",
      "Pancakes                   1\n",
      "Good foodd                 1\n",
      "Tasty food                 1\n",
      "Plenty food                1\n",
      "Pancakes for breakfast     1\n",
      "Some food                  1\n",
      "Free cheese                1\n",
      "nice food                  1\n",
      "food                       1\n",
      "Mac Donalds                1\n",
      "chocolate                  1\n",
      "dtype: int64\n"
     ]
    }
   ],
   "source": [
    "# Filter for any mention of food.\n",
    "food_regexs = [r\".*([Ff]ood).*|.*[Bb]reakfast.*|.*[Pp]ancakes.*|.*[Dd]inner.*|.*[Cc]heese.*|.*[Pp]izza.*|.*[Cc]hocolate.*|[Mm]ac.*|[Ss]ush|.*[Ll]unch.*\"]\n",
    "standard_2 = set_to_standard(standard_1, food_regexs, 'food')"
   ]
  },
  {
   "cell_type": "code",
   "execution_count": 10,
   "metadata": {
    "collapsed": false
   },
   "outputs": [
    {
     "name": "stdout",
     "output_type": "stream",
     "text": [
      "The following 8 values have been changed to: sex\n",
      "\n",
      "Sex            6\n",
      "sex            1\n",
      "Morning sex    1\n",
      "dtype: int64\n"
     ]
    }
   ],
   "source": [
    "# Filter for sex\n",
    "sex_regexs = [r'.*[Ss]ex.*']\n",
    "standard_3 = set_to_standard(standard_2, sex_regexs, 'sex')"
   ]
  },
  {
   "cell_type": "code",
   "execution_count": 11,
   "metadata": {
    "collapsed": false
   },
   "outputs": [
    {
     "name": "stdout",
     "output_type": "stream",
     "text": [
      "The following 12 values have been changed to: coffee\n",
      "\n",
      "Coffee         10\n",
      "Good coffee     1\n",
      "coffee          1\n",
      "dtype: int64\n"
     ]
    }
   ],
   "source": [
    "# Filter for coffee\n",
    "coffee_regexs = [r'.*[Cc]offe.*']\n",
    "standard_4 = set_to_standard(standard_3, coffee_regexs, 'coffee')"
   ]
  },
  {
   "cell_type": "code",
   "execution_count": 12,
   "metadata": {
    "collapsed": false
   },
   "outputs": [
    {
     "name": "stdout",
     "output_type": "stream",
     "text": [
      "The following 28 values have been changed to: sleep\n",
      "\n",
      "Good sleep                    6\n",
      "Sleep                         5\n",
      "having a good sleep           1\n",
      "sleeping well                 1\n",
      "No alarm in the morning       1\n",
      "Wake up without A alarm       1\n",
      "Sleeping in                   1\n",
      "Rest                          1\n",
      "Get some good sleep           1\n",
      "sleeping                      1\n",
      "Enough sleep                  1\n",
      "Having slept well             1\n",
      "Wake up time                  1\n",
      "Waking up not tired           1\n",
      "Good night rest               1\n",
      "waking up well rested         1\n",
      "sleep                         1\n",
      "Not having to get up early    1\n",
      "A good sleep                  1\n",
      "dtype: int64\n"
     ]
    }
   ],
   "source": [
    "# Filter for sleep\n",
    "sleep_regexs = [r'.*[Ss]leep.*|.*[Ss]lept.*|.*[Rr]est.*|.*[Ww]ak.*|[Nn]ot.*[Ee]arly.*|[Nn]o.*[Aa]larm.*|.*[Bb]ed.*']\n",
    "standard_5 = set_to_standard(standard_4, sleep_regexs, 'sleep')"
   ]
  },
  {
   "cell_type": "code",
   "execution_count": 13,
   "metadata": {
    "collapsed": false
   },
   "outputs": [
    {
     "name": "stdout",
     "output_type": "stream",
     "text": [
      "The following 6 values have been changed to: sport\n",
      "\n",
      "Sports              4\n",
      "Playing football    1\n",
      "Dance               1\n",
      "dtype: int64\n"
     ]
    }
   ],
   "source": [
    "# sport\n",
    "sport_regexs = [r'.*[Ss]port.*|.*[Ee]xerc.*|.*[Ff]ootball.*|.*[Dd]anc.*|.*[Gg]ym.*']\n",
    "standard_6 = set_to_standard(standard_5, sport_regexs, 'sport')"
   ]
  },
  {
   "cell_type": "code",
   "execution_count": 14,
   "metadata": {
    "collapsed": false
   },
   "outputs": [
    {
     "name": "stdout",
     "output_type": "stream",
     "text": [
      "The following 14 values have been changed to: productivity\n",
      "\n",
      "A productive day         2\n",
      "Success                  1\n",
      "Achievement              1\n",
      "Finish my daily tasks    1\n",
      "Nice grades              1\n",
      "productivity             1\n",
      "Achieving something      1\n",
      "Getting a good grade     1\n",
      "Work                     1\n",
      "Succeed in dayly goal    1\n",
      "Productivity             1\n",
      "Productive               1\n",
      "Good grades              1\n",
      "dtype: int64\n"
     ]
    }
   ],
   "source": [
    "# productivity\n",
    "prod_regexs = [r'.*[Pp]rod.*|[Ww]ork.*|.*[Aa]chiev.*|.*[Ss]ucce.*|.*[Ff]in.*|.*[Gg]rade.*|.*[Ss]atis|.*[Ll]ear|.*[Cc]hal.*|.*[Cc]ompl.*|[Aa]ss.*|.*[Dd]on.*']\n",
    "standard_7= set_to_standard(standard_6, prod_regexs, 'productivity')"
   ]
  },
  {
   "cell_type": "code",
   "execution_count": 15,
   "metadata": {
    "collapsed": false
   },
   "outputs": [
    {
     "name": "stdout",
     "output_type": "stream",
     "text": [
      "The following 13 values have been changed to: relaxing\n",
      "\n",
      "Freedom                      2\n",
      "Free time                    2\n",
      "Me-Time                      1\n",
      "No assigments                1\n",
      "No school/work               1\n",
      "No time series assignment    1\n",
      "Holiday                      1\n",
      "No lecture at 9              1\n",
      "No responsibilities          1\n",
      "No homework                  1\n",
      "afternoon lectures           1\n",
      "dtype: int64\n"
     ]
    }
   ],
   "source": [
    "# Relaxing\n",
    "relax_regexs = [r'.*[Rr]elax.*|.*[Ff]ree.*|.*[Tt]ime.*|.*[Hh]ol.*|.*[Nn]o.*(ass.*|scho.*|homew.*|lect.*|do.*|stud.*|stre.*|wor.*|obl.*|resp.*|col.*)|[Dd]o.*no.*']\n",
    "standard_8 = set_to_standard(standard_7, relax_regexs, 'relaxing')"
   ]
  },
  {
   "cell_type": "code",
   "execution_count": 16,
   "metadata": {
    "collapsed": false
   },
   "outputs": [
    {
     "name": "stdout",
     "output_type": "stream",
     "text": [
      "The following 16 values have been changed to: social\n",
      "\n",
      "Fun                                          2\n",
      "Beer                                         2\n",
      "The foresight of a night out with friends    1\n",
      "Friends                                      1\n",
      "Good company                                 1\n",
      "Friendly encounters                          1\n",
      "Seeing friends                               1\n",
      "Laughs                                       1\n",
      "People miding their own business             1\n",
      "beer                                         1\n",
      "Laughing                                     1\n",
      "Hanging out                                  1\n",
      "Kind people around me                        1\n",
      "Fun fun fun                                  1\n",
      "dtype: int64\n"
     ]
    }
   ],
   "source": [
    "# Social\n",
    "social_regexs = [r'.*[Ff]riend.*|.*[Hh]ang.*|.*[Ff]un.*|.*[Cc]ompany.*|.*[Ll]augh|.*[Bb]eer.*|.*[Pp]eop.*']\n",
    "standard_9 = set_to_standard(standard_8, social_regexs, 'social')"
   ]
  },
  {
   "cell_type": "code",
   "execution_count": 17,
   "metadata": {
    "collapsed": false
   },
   "outputs": [
    {
     "name": "stdout",
     "output_type": "stream",
     "text": [
      "The following 2 values have been changed to: media\n",
      "\n",
      "Music    2\n",
      "dtype: int64\n"
     ]
    }
   ],
   "source": [
    "# Media\n",
    "media_regexs = [r'.*[Nn]et.*|.*[Mm]us.*|.*[Mm]em.*|.*[Gg]am.*|.*[Mm]ov.*']\n",
    "standard_10 = set_to_standard(standard_9, media_regexs, 'media')"
   ]
  },
  {
   "cell_type": "code",
   "execution_count": 18,
   "metadata": {
    "collapsed": false
   },
   "outputs": [
    {
     "name": "stdout",
     "output_type": "stream",
     "text": [
      "The following 24 values have been changed to: other\n",
      "\n",
      "-                         2\n",
      "Saturday                  2\n",
      "got a 8.5                 1\n",
      "Guest lecture by Tupac    1\n",
      "Bunnies                   1\n",
      "Things to do              1\n",
      "A good book               1\n",
      "Morning tea               1\n",
      "Na                        1\n",
      "Energy                    1\n",
      "Not coming to VU          1\n",
      "Cats                      1\n",
      "1                         1\n",
      "Getting my salary         1\n",
      "cats                      1\n",
      "Relief                    1\n",
      "Temptation Island         1\n",
      "Nothing                   1\n",
      "Puppies                   1\n",
      "Jezus man                 1\n",
      "Fox news                  1\n",
      "A                         1\n",
      "dtype: int64\n"
     ]
    }
   ],
   "source": [
    "other_regexs = [r'^(?!.*(productivity|food|coffee|weather|social|relaxing|sport|sex|sleep|media))']\n",
    "standard_11 = set_to_standard(standard_10, other_regexs, 'other')"
   ]
  },
  {
   "cell_type": "code",
   "execution_count": 19,
   "metadata": {
    "collapsed": false
   },
   "outputs": [
    {
     "data": {
      "text/plain": [
       "weather         51\n",
       "food            43\n",
       "sleep           28\n",
       "other           24\n",
       "social          16\n",
       "productivity    14\n",
       "relaxing        13\n",
       "coffee          12\n",
       "sex              8\n",
       "sport            6\n",
       "media            2\n",
       "Name: goodDay1, dtype: int64"
      ]
     },
     "execution_count": 19,
     "metadata": {},
     "output_type": "execute_result"
    }
   ],
   "source": [
    "# Now here are the counts for the standardized values for goodDay1\n",
    "standard_11.value_counts()"
   ]
  },
  {
   "cell_type": "code",
   "execution_count": 20,
   "metadata": {
    "collapsed": false
   },
   "outputs": [
    {
     "name": "stdout",
     "output_type": "stream",
     "text": [
      "1      productivity\n",
      "2             other\n",
      "3              food\n",
      "4             other\n",
      "5             sleep\n",
      "6              food\n",
      "7              food\n",
      "8           weather\n",
      "9           weather\n",
      "10         relaxing\n",
      "11           coffee\n",
      "12            other\n",
      "13          weather\n",
      "14     productivity\n",
      "15             food\n",
      "16             food\n",
      "17            sleep\n",
      "18            sleep\n",
      "19            sleep\n",
      "20             food\n",
      "21             food\n",
      "22             food\n",
      "23              sex\n",
      "24            other\n",
      "25     productivity\n",
      "26           coffee\n",
      "27             food\n",
      "28           coffee\n",
      "29             food\n",
      "30             food\n",
      "           ...     \n",
      "188            food\n",
      "189           sleep\n",
      "190         weather\n",
      "191        relaxing\n",
      "192            food\n",
      "193    productivity\n",
      "194         weather\n",
      "195        relaxing\n",
      "196             sex\n",
      "197           sleep\n",
      "198         weather\n",
      "199           sleep\n",
      "200           sleep\n",
      "201           sport\n",
      "202    productivity\n",
      "203           sleep\n",
      "204          coffee\n",
      "205           sleep\n",
      "206           other\n",
      "207           other\n",
      "208           other\n",
      "209         weather\n",
      "210           other\n",
      "211          social\n",
      "212            food\n",
      "213        relaxing\n",
      "214         weather\n",
      "215          social\n",
      "216          social\n",
      "217           sleep\n",
      "Name: goodDay1, Length: 217, dtype: object\n"
     ]
    }
   ],
   "source": [
    "# And here is the total list\n",
    "print(standard_11)"
   ]
  },
  {
   "cell_type": "markdown",
   "metadata": {},
   "source": [
    "Now we're going to do the same thing with goodDay2"
   ]
  },
  {
   "cell_type": "code",
   "execution_count": 21,
   "metadata": {
    "collapsed": false
   },
   "outputs": [
    {
     "name": "stdout",
     "output_type": "stream",
     "text": [
      "The following 26 values have been changed to: weather\n",
      "\n",
      "Sun                                           4\n",
      "Sunshine                                      4\n",
      "sunshine                                      2\n",
      "Sunday                                        2\n",
      "sun                                           2\n",
      "Good and sunny weather                        1\n",
      "weather                                       1\n",
      "Sunny day                                     1\n",
      "Storm                                         1\n",
      "nice weather                                  1\n",
      "Good weather                                  1\n",
      "No wind                                       1\n",
      "Weather                                       1\n",
      "Sun shining                                   1\n",
      "Following 4 courses at the same time, rain    1\n",
      "Nice weather                                  1\n",
      "Rain                                          1\n",
      "dtype: int64\n"
     ]
    }
   ],
   "source": [
    "# Filter for mention of weather\n",
    "sun_regexs = [r\"(.*[Ss]un).*|.*[Ww]eather.*|.*[Cc]loud.*|.*(?<![Tt])[Rr]ain.*|.*[Ss]now.*|.*[Ww]ind.*|[Ss]tor\"]\n",
    "stand_1 = set_to_standard(odi_df.iloc[:,15], sun_regexs, 'weather')"
   ]
  },
  {
   "cell_type": "code",
   "execution_count": 22,
   "metadata": {
    "collapsed": false
   },
   "outputs": [
    {
     "name": "stdout",
     "output_type": "stream",
     "text": [
      "The following 37 values have been changed to: food\n",
      "\n",
      "Good food         7\n",
      "Food              7\n",
      "Chocolate         3\n",
      "Pizza             2\n",
      "good food         2\n",
      "Nice food         2\n",
      "Good food         1\n",
      "Goos food         1\n",
      "Cheese            1\n",
      "Good dinner       1\n",
      "Sushi             1\n",
      "pizza             1\n",
      "Lot of foodd      1\n",
      "Lunch             1\n",
      "sushi             1\n",
      "Decent dinner     1\n",
      "Asian food        1\n",
      "More chocolate    1\n",
      "Breakfast         1\n",
      "Food              1\n",
      "dtype: int64\n"
     ]
    }
   ],
   "source": [
    "# Try to filter for any mention of food.\n",
    "food_regexs = [r\".*([Ff]ood).*|.*[Bb]reakfast.*|.*[Pp]ancakes.*|.*[Dd]inner.*|.*[Cc]heese.*|.*[Pp]izza.*|.*[Cc]hocolate.*|[Mm]ac.*|[Ss]ush|.*[Ll]unch.*\"]\n",
    "stand_2 = set_to_standard(stand_1, food_regexs, 'food')"
   ]
  },
  {
   "cell_type": "code",
   "execution_count": 23,
   "metadata": {
    "collapsed": false
   },
   "outputs": [
    {
     "name": "stdout",
     "output_type": "stream",
     "text": [
      "The following 4 values have been changed to: sex\n",
      "\n",
      "Sex          2\n",
      "sex          1\n",
      "Good sex     1\n",
      "dtype: int64\n"
     ]
    }
   ],
   "source": [
    "# Filter for sex\n",
    "sex_regexs = [r'.*[Ss]ex.*']\n",
    "stand_3 = set_to_standard(stand_2, sex_regexs, 'sex')"
   ]
  },
  {
   "cell_type": "code",
   "execution_count": 24,
   "metadata": {
    "collapsed": false
   },
   "outputs": [
    {
     "name": "stdout",
     "output_type": "stream",
     "text": [
      "The following 11 values have been changed to: coffee\n",
      "\n",
      "Coffee          5\n",
      "Good coffee     2\n",
      "coffee          2\n",
      "good coffee     1\n",
      "Coffe           1\n",
      "dtype: int64\n"
     ]
    }
   ],
   "source": [
    "# Filter for coffee\n",
    "coffee_regexs = [r'.*[Cc]offe.*']\n",
    "stand_4 = set_to_standard(stand_3, coffee_regexs, 'coffee')"
   ]
  },
  {
   "cell_type": "code",
   "execution_count": 25,
   "metadata": {
    "collapsed": false
   },
   "outputs": [
    {
     "name": "stdout",
     "output_type": "stream",
     "text": [
      "The following 21 values have been changed to: sleep\n",
      "\n",
      "Good sleep                               4\n",
      "Sleep                                    3\n",
      "Having the house quiet ehrn i wake up    1\n",
      "get fast asleep quickly                  1\n",
      "Wake-up time                             1\n",
      "sleep                                    1\n",
      "enough sleep                             1\n",
      "Well rested and structured               1\n",
      "No alarm                                 1\n",
      "Plenty sleep                             1\n",
      "A good nice sleep                        1\n",
      "Good night sleep                         1\n",
      "sleeping in                              1\n",
      "Sleep well                               1\n",
      "Getting to bed early                     1\n",
      "A good sleep                             1\n",
      "dtype: int64\n"
     ]
    }
   ],
   "source": [
    "# Filter for sleep\n",
    "sleep_regexs = [r'.*[Ss]leep.*|.*[Ss]lept.*|.*[Rr]est.*|.*[Ww]ak.*|[Nn]ot.*[Ee]arly.*|[Nn]o.*[Aa]larm.*|.*[Bb]ed.*']\n",
    "stand_5 = set_to_standard(stand_4, sleep_regexs, 'sleep')"
   ]
  },
  {
   "cell_type": "code",
   "execution_count": 26,
   "metadata": {
    "collapsed": false
   },
   "outputs": [
    {
     "name": "stdout",
     "output_type": "stream",
     "text": [
      "The following 10 values have been changed to: sport\n",
      "\n",
      "Sports              3\n",
      "Exercise            2\n",
      "Going to the gym    2\n",
      "Football            1\n",
      "Sport               1\n",
      "Go to the gym       1\n",
      "dtype: int64\n"
     ]
    }
   ],
   "source": [
    "# sport\n",
    "sport_regexs = [r'.*[Ss]port.*|.*[Ee]xerc.*|.*[Ff]ootball.*|.*[Dd]anc.*|.*[Gg]ym.*']\n",
    "stand_6 = set_to_standard(stand_5, sport_regexs, 'sport')"
   ]
  },
  {
   "cell_type": "code",
   "execution_count": 27,
   "metadata": {
    "collapsed": false
   },
   "outputs": [
    {
     "name": "stdout",
     "output_type": "stream",
     "text": [
      "The following 13 values have been changed to: productivity\n",
      "\n",
      "Being productive            1\n",
      "Productive                  1\n",
      "Learning something          1\n",
      "Get satisfaction at work    1\n",
      "Completing my task          1\n",
      "All grades                  1\n",
      "assignmeny done             1\n",
      "Achievement                 1\n",
      "Productivity                1\n",
      "Finishing some work         1\n",
      "Challenge                   1\n",
      "Good grades                 1\n",
      "Getting work done           1\n",
      "dtype: int64\n"
     ]
    }
   ],
   "source": [
    "# productivity\n",
    "prod_regexs = [r'.*[Pp]rod.*|[Ww]ork.*|.*[Aa]chiev.*|.*[Ss]ucce.*|.*[Ff]in.*|.*[Gg]rade.*|.*[Ss]atis|.*[Ll]ear|.*[Cc]hal.*|.*[Cc]ompl.*|[Aa]ss.*|.*[Dd]on.*']\n",
    "stand_7= set_to_standard(stand_6, prod_regexs, 'productivity')"
   ]
  },
  {
   "cell_type": "code",
   "execution_count": 28,
   "metadata": {
    "collapsed": false
   },
   "outputs": [
    {
     "name": "stdout",
     "output_type": "stream",
     "text": [
      "The following 32 values have been changed to: relaxing\n",
      "\n",
      "No stress                    3\n",
      "Free time                    2\n",
      "No lectures                  2\n",
      "Relaxation                   2\n",
      "Relax                        2\n",
      "Freedom                      2\n",
      "free time                    1\n",
      "no work appointments         1\n",
      "Doing nothing                1\n",
      "Not too much to do           1\n",
      "More free time               1\n",
      "Not studying                 1\n",
      "Not having Anything to do    1\n",
      "some free time               1\n",
      "Bike not braking down        1\n",
      "fun time                     1\n",
      "free day                     1\n",
      "No school                    1\n",
      "Noting to do                 1\n",
      "Have nothing to do           1\n",
      "Free time                    1\n",
      "No worries                   1\n",
      "No school                    1\n",
      "no obligations               1\n",
      "No college                   1\n",
      "dtype: int64\n"
     ]
    }
   ],
   "source": [
    "# Relaxing\n",
    "relax_regexs = [r'.*[Rr]elax.*|.*[Ff]ree.*|.*[Tt]ime.*|.*[Hh]ol.*|.*[Nn]o.*(ass.*|scho.*|homew.*|lect.*|do.*|stud.*|stre.*|wor.*|obl.*|resp.*|col.*)|[Dd]o.*no.*']\n",
    "stand_8 = set_to_standard(stand_7, relax_regexs, 'relaxing')"
   ]
  },
  {
   "cell_type": "code",
   "execution_count": 29,
   "metadata": {
    "collapsed": false
   },
   "outputs": [
    {
     "name": "stdout",
     "output_type": "stream",
     "text": [
      "The following 22 values have been changed to: social\n",
      "\n",
      "Beer                                                            4\n",
      "Friends                                                         4\n",
      "A day with company                                              2\n",
      "beer                                                            2\n",
      "Meeting with friends                                            1\n",
      "laughter                                                        1\n",
      "The taste of that first sip of cold beer on a hot summer day    1\n",
      "Lovely people                                                   1\n",
      "Nice people                                                     1\n",
      "Being with my friends                                           1\n",
      "friends                                                         1\n",
      "Be around nice people                                           1\n",
      "Meeting awesome people                                          1\n",
      "a lot of fun                                                    1\n",
      "dtype: int64\n"
     ]
    }
   ],
   "source": [
    "# Social\n",
    "social_regexs = [r'.*[Ff]riend.*|.*[Hh]ang.*|.*[Ff]un.*|.*[Cc]ompany.*|.*[Ll]augh|.*[Bb]eer.*|.*[Pp]eop.*']\n",
    "stand_9 = set_to_standard(stand_8, social_regexs, 'social')"
   ]
  },
  {
   "cell_type": "code",
   "execution_count": 30,
   "metadata": {
    "collapsed": false
   },
   "outputs": [
    {
     "name": "stdout",
     "output_type": "stream",
     "text": [
      "The following 8 values have been changed to: media\n",
      "\n",
      "Netflix          2\n",
      "Music            2\n",
      "Video games      1\n",
      "Watch a movie    1\n",
      "Gaming           1\n",
      "Memes            1\n",
      "dtype: int64\n"
     ]
    }
   ],
   "source": [
    "# Media\n",
    "media_regexs = [r'.*[Nn]et.*|.*[Mm]us.*|.*[Mm]em.*|.*[Gg]am.*|.*[Mm]ov.*']\n",
    "stand_10 = set_to_standard(stand_9, media_regexs, 'media')"
   ]
  },
  {
   "cell_type": "code",
   "execution_count": 31,
   "metadata": {
    "collapsed": false
   },
   "outputs": [
    {
     "name": "stdout",
     "output_type": "stream",
     "text": [
      "The following 33 values have been changed to: other\n",
      "\n",
      "-                                   2\n",
      "Money                               2\n",
      "Drinks                              1\n",
      "weekend                             1\n",
      "B                                   1\n",
      "got 2 8.5s                          1\n",
      "Seeing you *kiss*                   1\n",
      "new experiences                     1\n",
      "0 heart attacks                     1\n",
      "no pain                             1\n",
      "Na                                  1\n",
      "Nothing, I hate life                1\n",
      "Flying                              1\n",
      "A good day                          1\n",
      "Te diep                             1\n",
      "If I got up with the correct leg    1\n",
      "Wine                                1\n",
      "Activities                          1\n",
      "A blunt                             1\n",
      "Smiles                              1\n",
      "Staying up late                     1\n",
      "Good news                           1\n",
      "Drugs                               1\n",
      ".                                   1\n",
      "Winning the lotery                  1\n",
      "No compile errors on first try      1\n",
      "fast train                          1\n",
      "2                                   1\n",
      "Sea                                 1\n",
      "Future plans being solid            1\n",
      "Not it being bad                    1\n",
      "dtype: int64\n"
     ]
    }
   ],
   "source": [
    "other_regexs = [r'^(?!.*(productivity|food|coffee|weather|social|relaxing|sport|sex|sleep|media))']\n",
    "stand_11 = set_to_standard(stand_10, other_regexs, 'other')"
   ]
  },
  {
   "cell_type": "code",
   "execution_count": 32,
   "metadata": {
    "collapsed": false
   },
   "outputs": [
    {
     "data": {
      "text/plain": [
       "1     sleep\n",
       "2     other\n",
       "3     sport\n",
       "4     other\n",
       "5    social\n",
       "Name: goodDay2, dtype: object"
      ]
     },
     "execution_count": 32,
     "metadata": {},
     "output_type": "execute_result"
    }
   ],
   "source": [
    "stand_11.head()"
   ]
  },
  {
   "cell_type": "markdown",
   "metadata": {},
   "source": [
    "Put the two together to create a new dataframe!"
   ]
  },
  {
   "cell_type": "code",
   "execution_count": 33,
   "metadata": {
    "collapsed": false
   },
   "outputs": [
    {
     "name": "stdout",
     "output_type": "stream",
     "text": [
      "       goodDay1 goodDay2\n",
      "1  productivity    sleep\n",
      "2         other    other\n",
      "3          food    sport\n",
      "4         other    other\n",
      "5         sleep   social\n"
     ]
    }
   ],
   "source": [
    "# Start a new dataframe to store the stadardized values\n",
    "standard = pd.DataFrame(data=standard_11)\n",
    "standard['goodDay2'] = stand_11.values\n",
    "print(standard.head())"
   ]
  },
  {
   "cell_type": "markdown",
   "metadata": {},
   "source": [
    "Now we're going to standardize the program feature"
   ]
  },
  {
   "cell_type": "code",
   "execution_count": 34,
   "metadata": {
    "collapsed": false
   },
   "outputs": [
    {
     "name": "stdout",
     "output_type": "stream",
     "text": [
      "The following 50 values have been changed to: AI\n",
      "\n",
      "AI                                                    37\n",
      "Ai                                                     2\n",
      "Artificial Intelligence                                2\n",
      "MSc AI and MSc CLS                                     1\n",
      "Artificial intelligence                                1\n",
      "Msc Artificial intelligence                            1\n",
      "Artificial Intelligence (Socially Aware Computing)     1\n",
      "AI (VU version)                                        1\n",
      "A. I.                                                  1\n",
      "AI (Cognitive Sciences)                                1\n",
      "MSc Artificial Intelligence                            1\n",
      "AI VU                                                  1\n",
      "dtype: int64\n"
     ]
    }
   ],
   "source": [
    "ai_regexs = [r\"(Msc)?.*A(rtificial)?.?( )?[Ii].*(?<!premaster)$\"] #WARNING premaster to remove\n",
    "standard_1 = set_to_standard(odi_df.iloc[:,1], ai_regexs, 'AI')"
   ]
  },
  {
   "cell_type": "code",
   "execution_count": 35,
   "metadata": {
    "collapsed": false
   },
   "outputs": [
    {
     "name": "stdout",
     "output_type": "stream",
     "text": [
      "The following 28 values have been changed to: BI\n",
      "\n",
      "Bioinformatics                              3\n",
      "Bioinformatics and Systems Biology          3\n",
      "MSc Bioinformatics and Systems Biology      2\n",
      "Bioinformatics and systems biology          2\n",
      "Bioinformatics                              2\n",
      "Bioinformatics and Systems Biology          2\n",
      "Msc. Bioinformatics and Systems Biology     1\n",
      "MSc Bioinformatics                          1\n",
      "Bioinformatics and Systems biology          1\n",
      "Master Bionformatics and Systems Biology    1\n",
      "Bioinformatics master                       1\n",
      "MSC Bioinformatics                          1\n",
      "Bioinformatics & Systems Biology            1\n",
      "Bioinformatcis                              1\n",
      "Bioinformatics and SysBio                   1\n",
      "MA Bioinformatics                           1\n",
      "System Biology and Bioinformatics           1\n",
      "Bioinformatics & Systems biology            1\n",
      "bioinformatics                              1\n",
      "Bioinformatics & System Biology             1\n",
      "dtype: int64\n"
     ]
    }
   ],
   "source": [
    "bio_regexs = [r\".*[Bb]io\"]   # Bioinformatics\n",
    "standard_2 = set_to_standard(standard_1, bio_regexs, 'BI')"
   ]
  },
  {
   "cell_type": "code",
   "execution_count": 36,
   "metadata": {
    "collapsed": false
   },
   "outputs": [
    {
     "name": "stdout",
     "output_type": "stream",
     "text": [
      "The following 44 values have been changed to: BA\n",
      "\n",
      "BA                                         26\n",
      "Business Analytics                          9\n",
      "Business Analytics                          3\n",
      "Business analytics                          2\n",
      "Business Analytics Msc                      1\n",
      "business analytics                          1\n",
      "Master Business Analytics                   1\n",
      "Business Analytics/ operations research     1\n",
      "dtype: int64\n"
     ]
    }
   ],
   "source": [
    "ba_regexs = [\".*[Bb](usiness )?[Aa](nalytics)?\"]\n",
    "standard_3 = set_to_standard(standard_2, ba_regexs, 'BA')"
   ]
  },
  {
   "cell_type": "code",
   "execution_count": 37,
   "metadata": {
    "collapsed": false
   },
   "outputs": [
    {
     "name": "stdout",
     "output_type": "stream",
     "text": [
      "The following 7 values have been changed to: BDE\n",
      "\n",
      "Big data engineering                              2\n",
      "Computer Science: Big Data Engineering            2\n",
      "Master Computer Science: Big Data Engineering     1\n",
      "Masters Computer Science(big data engineering)    1\n",
      "Big Data Engineering                              1\n",
      "dtype: int64\n"
     ]
    }
   ],
   "source": [
    "bde_regexs = [r\".*[Ee]ngineering\"] #this is: Big Data Engineering\n",
    "standard_4 = set_to_standard(standard_3, bde_regexs, 'BDE')"
   ]
  },
  {
   "cell_type": "code",
   "execution_count": 38,
   "metadata": {
    "collapsed": false
   },
   "outputs": [
    {
     "name": "stdout",
     "output_type": "stream",
     "text": [
      "The following 22 values have been changed to: CLS\n",
      "\n",
      "Computational Science                       12\n",
      "CLS                                          2\n",
      "Computational science                        2\n",
      "Msc Computational science                    1\n",
      "Comoputational science                       1\n",
      "Cls                                          1\n",
      "MSc Computational Science (Joint Degree)     1\n",
      "Computational Science                        1\n",
      "Computational Science (JD)                   1\n",
      "dtype: int64\n"
     ]
    }
   ],
   "source": [
    "cls_regexs = [\".*[cC]om(o)?p.*ational.*ience.*|[Cc][Ll][Ss]\"]\n",
    "standard_5 = set_to_standard(standard_4, cls_regexs, 'CLS') "
   ]
  },
  {
   "cell_type": "code",
   "execution_count": 39,
   "metadata": {
    "collapsed": false
   },
   "outputs": [
    {
     "name": "stdout",
     "output_type": "stream",
     "text": [
      "The following 14 values have been changed to: CS\n",
      "\n",
      "CS                       9\n",
      "Computer Science         3\n",
      "cs                       1\n",
      "MSc Computer Science     1\n",
      "dtype: int64\n"
     ]
    }
   ],
   "source": [
    "cs_regexs = [r\".{0,4}(Computer Science.?|cs|CS)$\"] # ^(?!.*(metrics))\n",
    "standard_6 = set_to_standard(standard_5, cs_regexs, 'CS')"
   ]
  },
  {
   "cell_type": "code",
   "execution_count": 40,
   "metadata": {
    "collapsed": false
   },
   "outputs": [
    {
     "name": "stdout",
     "output_type": "stream",
     "text": [
      "The following 22 values have been changed to: EC\n",
      "\n",
      "Econometrics                                   8\n",
      "EOR                                            4\n",
      "Econometrics                                   2\n",
      "OR                                             2\n",
      "Master Econometrics and operations research    1\n",
      "Economics                                      1\n",
      "M Financial Economtrics                        1\n",
      "Master Econometrics & Operations Research      1\n",
      "MSc Econometrics                               1\n",
      "Econometrics & Operations Research             1\n",
      "dtype: int64\n"
     ]
    }
   ],
   "source": [
    "ec_regexs = [\"^.*(EOR|[Ee]conom(e)?trics|OR|Economics).*$\"]\n",
    "standard_7 = set_to_standard(standard_6, ec_regexs, 'EC')"
   ]
  },
  {
   "cell_type": "code",
   "execution_count": 41,
   "metadata": {
    "collapsed": false
   },
   "outputs": [
    {
     "name": "stdout",
     "output_type": "stream",
     "text": [
      "The following 10 values have been changed to: QRM\n",
      "\n",
      "QRM                                                       3\n",
      "Quantitative Risk Management                              3\n",
      "Finance DHP QRM                                           1\n",
      "Duisenberg Quantitative Risk Management                   1\n",
      "Duisenberg Honors Program Quantitative Risk Managament    1\n",
      "Quantitative risk management                              1\n",
      "dtype: int64\n"
     ]
    }
   ],
   "source": [
    "qrm_regexs = [\".*([Qq]uantit.*g[ea]ment|QRM)$\"]\n",
    "standard_8 = set_to_standard(standard_7, qrm_regexs, 'QRM')"
   ]
  },
  {
   "cell_type": "code",
   "execution_count": 42,
   "metadata": {
    "collapsed": false
   },
   "outputs": [
    {
     "name": "stdout",
     "output_type": "stream",
     "text": [
      "The following 4 values have been changed to: PHD\n",
      "\n",
      "PhD                   2\n",
      "PhD student at FGB    1\n",
      "PhD student           1\n",
      "dtype: int64\n"
     ]
    }
   ],
   "source": [
    "phd_regexs = [\"^(PhD)\"]\n",
    "standard_9 = set_to_standard(standard_8, phd_regexs, 'PHD')"
   ]
  },
  {
   "cell_type": "code",
   "execution_count": 43,
   "metadata": {
    "collapsed": false
   },
   "outputs": [
    {
     "name": "stdout",
     "output_type": "stream",
     "text": [
      "The following 12 values have been changed to: others\n",
      "\n",
      "Exchange                            2\n",
      "Mathematics Exchange                1\n",
      "Physics                             1\n",
      "AI premaster                        1\n",
      "Mathematics                         1\n",
      "Master Human Movement Science       1\n",
      "Data Mining Techniques              1\n",
      "Drug discovery and safety           1\n",
      "Finance                             1\n",
      "B Science, Business & Innovation    1\n",
      "21-05-1995                          1\n",
      "dtype: int64\n"
     ]
    }
   ],
   "source": [
    "others_regexs = [r\".*[^AI|BI|BA|BDE|CLS|CS|EC|QRM|PHD]$\"]\n",
    "standard_10 = set_to_standard(standard_9, others_regexs, 'others')"
   ]
  },
  {
   "cell_type": "code",
   "execution_count": 44,
   "metadata": {
    "collapsed": false
   },
   "outputs": [
    {
     "name": "stdout",
     "output_type": "stream",
     "text": [
      "The following 4 values have been changed to: others\n",
      "\n",
      "MS     2\n",
      "MPA    1\n",
      "CSL    1\n",
      "dtype: int64\n"
     ]
    }
   ],
   "source": [
    "others_regexs_2 = [r\"MS|MPA|CSL\"]\n",
    "standard_11 = set_to_standard(standard_10, others_regexs_2, 'others')"
   ]
  },
  {
   "cell_type": "code",
   "execution_count": 45,
   "metadata": {
    "collapsed": false
   },
   "outputs": [
    {
     "data": {
      "text/plain": [
       "AI        50\n",
       "BA        44\n",
       "BI        28\n",
       "CLS       22\n",
       "EC        22\n",
       "others    16\n",
       "CS        14\n",
       "QRM       10\n",
       "BDE        7\n",
       "PHD        4\n",
       "Name: program, dtype: int64"
      ]
     },
     "execution_count": 45,
     "metadata": {},
     "output_type": "execute_result"
    }
   ],
   "source": [
    "standard_11.value_counts()"
   ]
  },
  {
   "cell_type": "code",
   "execution_count": 47,
   "metadata": {
    "collapsed": false
   },
   "outputs": [],
   "source": [
    "standard['program'] = standard_11.values"
   ]
  },
  {
   "cell_type": "code",
   "execution_count": 48,
   "metadata": {
    "collapsed": false
   },
   "outputs": [
    {
     "name": "stdout",
     "output_type": "stream",
     "text": [
      "       goodDay1 goodDay2 program\n",
      "1  productivity    sleep     QRM\n",
      "2         other    other      CS\n",
      "3          food    sport      BA\n",
      "4         other    other      BA\n",
      "5         sleep   social     BDE\n"
     ]
    }
   ],
   "source": [
    "print(standard.head())"
   ]
  },
  {
   "cell_type": "markdown",
   "metadata": {},
   "source": [
    "Excellent. Now standardize the binary features."
   ]
  },
  {
   "cell_type": "code",
   "execution_count": 50,
   "metadata": {
    "collapsed": true
   },
   "outputs": [],
   "source": [
    "# Function for making all features either yes or no\n",
    "def convert_yes_no(df):\n",
    "    for i in range(len(df)):\n",
    "\n",
    "        if df.values[i] == '0' or df.values[i] == 'sigma' or df.values[i] == 'nee':\n",
    "            df.values[i] = 'no'\n",
    "\n",
    "        elif df.values[i] == '1' or df.values[i] == 'mu' or df.values[i] == 'ja':\n",
    "            df.values[i] = 'yes'\n",
    "\n",
    "    return df"
   ]
  },
  {
   "cell_type": "code",
   "execution_count": 51,
   "metadata": {
    "collapsed": false
   },
   "outputs": [
    {
     "name": "stdout",
     "output_type": "stream",
     "text": [
      "1     no\n",
      "2     no\n",
      "3    yes\n",
      "4    yes\n",
      "5     no\n",
      "Name: MLcourse, dtype: object\n"
     ]
    }
   ],
   "source": [
    "# Machine Learning course feature\n",
    "mach_learn = convert_yes_no(odi_df.MLcourse)\n",
    "print(mach_learn.head())"
   ]
  },
  {
   "cell_type": "code",
   "execution_count": 52,
   "metadata": {
    "collapsed": false
   },
   "outputs": [
    {
     "name": "stdout",
     "output_type": "stream",
     "text": [
      "       goodDay1 goodDay2 program MLcourse\n",
      "1  productivity    sleep     QRM       no\n",
      "2         other    other      CS       no\n",
      "3          food    sport      BA      yes\n",
      "4         other    other      BA      yes\n",
      "5         sleep   social     BDE       no\n"
     ]
    }
   ],
   "source": [
    "standard['MLcourse'] = mach_learn.values\n",
    "print(standard.head())"
   ]
  },
  {
   "cell_type": "code",
   "execution_count": 53,
   "metadata": {
    "collapsed": false
   },
   "outputs": [
    {
     "name": "stdout",
     "output_type": "stream",
     "text": [
      "       goodDay1 goodDay2 program MLcourse IRcourse\n",
      "1  productivity    sleep     QRM       no       no\n",
      "2         other    other      CS       no       no\n",
      "3          food    sport      BA      yes      yes\n",
      "4         other    other      BA      yes      yes\n",
      "5         sleep   social     BDE       no       no\n"
     ]
    }
   ],
   "source": [
    "# information retrieval course feature\n",
    "info_course = convert_yes_no(odi_df.IRcourse)\n",
    "standard['IRcourse'] = info_course.values\n",
    "print(standard.head())"
   ]
  },
  {
   "cell_type": "code",
   "execution_count": 54,
   "metadata": {
    "collapsed": false
   },
   "outputs": [
    {
     "name": "stdout",
     "output_type": "stream",
     "text": [
      "       goodDay1 goodDay2 program MLcourse IRcourse StatsCourse\n",
      "1  productivity    sleep     QRM       no       no         yes\n",
      "2         other    other      CS       no       no     unknown\n",
      "3          food    sport      BA      yes      yes          no\n",
      "4         other    other      BA      yes      yes         yes\n",
      "5         sleep   social     BDE       no       no          no\n"
     ]
    }
   ],
   "source": [
    "# stats course feature\n",
    "stat = convert_yes_no(odi_df.StatsCourse)\n",
    "standard['StatsCourse'] = stat.values\n",
    "print(standard.head())"
   ]
  },
  {
   "cell_type": "code",
   "execution_count": 55,
   "metadata": {
    "collapsed": false
   },
   "outputs": [
    {
     "name": "stdout",
     "output_type": "stream",
     "text": [
      "       goodDay1 goodDay2 program MLcourse IRcourse StatsCourse DBcourse\n",
      "1  productivity    sleep     QRM       no       no         yes       no\n",
      "2         other    other      CS       no       no     unknown      yes\n",
      "3          food    sport      BA      yes      yes          no      yes\n",
      "4         other    other      BA      yes      yes         yes      yes\n",
      "5         sleep   social     BDE       no       no          no      yes\n"
     ]
    }
   ],
   "source": [
    "# database course feature\n",
    "db_course = convert_yes_no(odi_df.DBcourse)\n",
    "standard['DBcourse'] = db_course.values\n",
    "print(standard.head())"
   ]
  },
  {
   "cell_type": "code",
   "execution_count": 56,
   "metadata": {
    "collapsed": true
   },
   "outputs": [],
   "source": [
    "def convert_noIdea(df, unwanted):\n",
    "    for i in range(len(df)):\n",
    "\n",
    "        if df.values[i] == unwanted:\n",
    "            df.values[i] = 'no idea'\n",
    "    return df"
   ]
  },
  {
   "cell_type": "code",
   "execution_count": 57,
   "metadata": {
    "collapsed": false
   },
   "outputs": [
    {
     "name": "stdout",
     "output_type": "stream",
     "text": [
      "       goodDay1 goodDay2 program MLcourse IRcourse StatsCourse DBcourse  \\\n",
      "1  productivity    sleep     QRM       no       no         yes       no   \n",
      "2         other    other      CS       no       no     unknown      yes   \n",
      "3          food    sport      BA      yes      yes          no      yes   \n",
      "4         other    other      BA      yes      yes         yes      yes   \n",
      "5         sleep   social     BDE       no       no          no      yes   \n",
      "\n",
      "  choco_op  \n",
      "1  neither  \n",
      "2  no idea  \n",
      "3  neither  \n",
      "4  no idea  \n",
      "5  no idea  \n"
     ]
    }
   ],
   "source": [
    "choco = convert_noIdea(odi_df.choco_op, 'I have no idea what you are talking about')\n",
    "standard['choco_op'] = choco.values\n",
    "print(standard.head())"
   ]
  },
  {
   "cell_type": "code",
   "execution_count": 58,
   "metadata": {
    "collapsed": false
   },
   "outputs": [
    {
     "name": "stdout",
     "output_type": "stream",
     "text": [
      "       goodDay1 goodDay2 program MLcourse IRcourse StatsCourse DBcourse  \\\n",
      "1  productivity    sleep     QRM       no       no         yes       no   \n",
      "2         other    other      CS       no       no     unknown      yes   \n",
      "3          food    sport      BA      yes      yes          no      yes   \n",
      "4         other    other      BA      yes      yes         yes      yes   \n",
      "5         sleep   social     BDE       no       no          no      yes   \n",
      "\n",
      "  choco_op gender  \n",
      "1  neither   male  \n",
      "2  no idea   male  \n",
      "3  neither   male  \n",
      "4  no idea   male  \n",
      "5  no idea   male  \n"
     ]
    }
   ],
   "source": [
    "standard['gender'] = odi_df.gender\n",
    "print(standard.head())"
   ]
  },
  {
   "cell_type": "code",
   "execution_count": 59,
   "metadata": {
    "collapsed": false
   },
   "outputs": [
    {
     "name": "stdout",
     "output_type": "stream",
     "text": [
      "       goodDay1 goodDay2 program MLcourse IRcourse StatsCourse DBcourse  \\\n",
      "1  productivity    sleep     QRM       no       no         yes       no   \n",
      "2         other    other      CS       no       no     unknown      yes   \n",
      "3          food    sport      BA      yes      yes          no      yes   \n",
      "4         other    other      BA      yes      yes         yes      yes   \n",
      "5         sleep   social     BDE       no       no          no      yes   \n",
      "\n",
      "  choco_op gender stand  \n",
      "1  neither   male    no  \n",
      "2  no idea   male   yes  \n",
      "3  neither   male    no  \n",
      "4  no idea   male    no  \n",
      "5  no idea   male    no  \n"
     ]
    }
   ],
   "source": [
    "standard['stand'] = odi_df.stand\n",
    "print(standard.head())"
   ]
  },
  {
   "cell_type": "markdown",
   "metadata": {
    "collapsed": true
   },
   "source": [
    "Now standardize the bedtime"
   ]
  },
  {
   "cell_type": "code",
   "execution_count": 60,
   "metadata": {
    "collapsed": true
   },
   "outputs": [],
   "source": [
    "def remove_AmPm(series):\n",
    "    new_series = []\n",
    "    for line in series:\n",
    "        \n",
    "        new1 = line.replace('m', '')\n",
    "        new2 = new1.replace('p', '')\n",
    "        new3 = new2.replace('a', '')\n",
    "        new4 = new3.replace('A', '')\n",
    "        new5 = new4.replace('M', '')\n",
    "        new6 = new5.replace('P', '')\n",
    "        new7 = new6.replace(' ', '')\n",
    "        new8 = new7.replace('.', ':')\n",
    "        new_series.append(new8)\n",
    "        \n",
    "    return new_series\n",
    "\n",
    "# Try to get rid of any am/pm that might be present\n",
    "Series1 = remove_AmPm(odi_df.bedtime)"
   ]
  },
  {
   "cell_type": "code",
   "execution_count": 61,
   "metadata": {
    "collapsed": true
   },
   "outputs": [],
   "source": [
    "def add_zeros(series):\n",
    "    new_series = []\n",
    "    \n",
    "    justone = r'\\d{1,2}(?!(:|\\d))'\n",
    "\n",
    "    \n",
    "    for line in series:\n",
    "        m = match(justone, line)\n",
    "        \n",
    "        if m is not None:\n",
    "            line+=':00'\n",
    "            \n",
    "        new_series.append(line)\n",
    "          \n",
    "    return new_series\n",
    "\n",
    "Series2 = add_zeros(Series1)"
   ]
  },
  {
   "cell_type": "code",
   "execution_count": 62,
   "metadata": {
    "collapsed": false
   },
   "outputs": [],
   "source": [
    "def finish(series):\n",
    "    series_1 = []\n",
    "    series_2 = []\n",
    "    series_3 = []\n",
    "    # This should specify for 3:0 which we need to change to 3:00\n",
    "    twodigits = r'\\d*:\\d{1}(?!\\d)'\n",
    "    \n",
    "    # Put a zero in front of 1-9:00\n",
    "    firstdigits = r'\\d{1}(?<=\\d):\\d{2}'\n",
    "\n",
    "    \n",
    "    for line in series:\n",
    "        m = match(twodigits, line)\n",
    "        \n",
    "        if m is not None:\n",
    "            line+='0'\n",
    "            \n",
    "        series_1.append(line)\n",
    "        \n",
    "    for line in series_1:\n",
    "        m = match(firstdigits, line)\n",
    "        if m is not None:\n",
    "            new_value = '0'+line\n",
    "            \n",
    "        else:\n",
    "            new_value = line\n",
    "        series_2.append(new_value)\n",
    "            \n",
    "\n",
    "    return series_2\n",
    "\n",
    "Series3 = finish(Series2)\n"
   ]
  },
  {
   "cell_type": "code",
   "execution_count": 63,
   "metadata": {
    "collapsed": true
   },
   "outputs": [],
   "source": [
    "def insertChar(mystring, position, chartoinsert ):\n",
    "    longi = len(mystring)\n",
    "    mystring   =  mystring[:position] + chartoinsert + mystring[position:] \n",
    "    return mystring   \n",
    "\n",
    "def addcolon(series):\n",
    "    new_series = []\n",
    "    \n",
    "    for line in series:\n",
    "        \n",
    "        if len(line)==3:\n",
    "            newval = insertChar(line, 1, ':')\n",
    "            new_series.append(newval)\n",
    "        elif len(line)==4:\n",
    "            newval = insertChar(line, 2, ':')\n",
    "            new_series.append(newval)\n",
    "        else:\n",
    "            new_series.append(line)\n",
    "    \n",
    "    return new_series\n",
    "\n",
    "Series4 = addcolon(Series3)"
   ]
  },
  {
   "cell_type": "code",
   "execution_count": 64,
   "metadata": {
    "collapsed": false
   },
   "outputs": [],
   "source": [
    "def nochar(series):\n",
    "    new_series = []\n",
    "    \n",
    "    right = r'\\d{2}:\\d{2}'\n",
    "    extra = r'\\d*:{1,}'\n",
    "    \n",
    "    for line in series:\n",
    "        r = match(right, line)\n",
    "        e = match(extra, line)\n",
    "        \n",
    "        if r is not None:\n",
    "            new_series.append(line)\n",
    "            \n",
    "        elif e is not None:\n",
    "            newval = line.replace(':::', ':00')\n",
    "            new_series.append(newval)\n",
    "        else:\n",
    "            new_series.append('NA')\n",
    "   \n",
    "    return new_series\n",
    "\n",
    "Series5 = nochar(Series4)"
   ]
  },
  {
   "cell_type": "code",
   "execution_count": 65,
   "metadata": {
    "collapsed": true
   },
   "outputs": [],
   "source": [
    "def clock(series):\n",
    "    new_series = []\n",
    "    final_series = []\n",
    "    reg = r'(0[6-9]|1[0-2]):\\d*'\n",
    "    \n",
    "    for line in series:\n",
    "        m = match(reg, line)\n",
    "        \n",
    "        if m is not None:\n",
    " \n",
    "            oldtime = int(line[:2])\n",
    "            newtime = str(oldtime + 12)\n",
    "            new_value = newtime + line[2:]\n",
    "            new_series.append(new_value)\n",
    "            \n",
    "        else:\n",
    "            new_series.append(line)\n",
    "            \n",
    "    for line in new_series:\n",
    "        if line[:2] == '24':\n",
    "            new = line.replace('24', '00')\n",
    "            final_series.append(new)\n",
    "        else:\n",
    "            final_series.append(line)\n",
    "        \n",
    "    return final_series\n",
    "\n",
    "Series6 = clock(Series5)"
   ]
  },
  {
   "cell_type": "code",
   "execution_count": 66,
   "metadata": {
    "collapsed": false
   },
   "outputs": [
    {
     "name": "stdout",
     "output_type": "stream",
     "text": [
      "['01:00', 'NA', '23:00', '00:30', '00:00', '21:00', '23:00', '00:00', '01:00', '02:00', '00:00', '23:45', '00:30', '01:00', '20:00', '23:30', '01:30', '01:00', '23:30', 'NA', '23:59', '23:20', '2:00', '23:30', '23:30', '01:30', '23:30', '22:20', '23:30', '01:20', '23:55', '01:00', '23:00', '02:00', 'NA', '01:00', '01:00', '01:00', '01:00', '01:15', 'NA', '01:00', '02:00', '22:00', '00:40', '23:00', '23:55', '23:00', '23:00', '23:15', '01:00', '00:00', '23:50', '01:00', '23:00', '23:30', '00:30', '01:00', '00:15', '23:15', '23:00', '01:00', '00:00', '23:05', '01:00', '02:00', '01:00', '02:00', '22:00', 'NA', '23:03', '23:00', '23:59', '01:30', '22:10', '00:30', '01:00', '01:15', '23:15', '00:00', '23:58', '01:12', '01:30', '00:30', '23:30', '04:00', '01:00', '00:30', '00:30', '01:00', '23:00', '00:00', '22:30', '23:30', '00:00', '00:30', '22:00', '02:00', '23:30', '02:00', '23:00', '22:30', '02:00', '22:45', '23:00', '01:30', '00:00', '00:00', '01:00', '01:48', '03:00', '02:00', '01:30', '23:14', '00:45', '01:00', '02:00', '01:00', '23:30', '23:30', '23:16', '23:00', '00:30', '00:25', '23:49', '23:45', '23:00', '00:30', '23:59', '00:30', '02:00', '04:40', '00:20', '02:00', '18:00', '23:45', '00:35', '23:30', '01:30', '00:00', '00:00', '03:00', '23:30', '23:00', '23:30', '03:00', '23:00', '01:15', '00:00', '01:30', '01:15', '00:30', '23:58', '02:30', '23:45', '02:00', '22:00', '23:00', '03:00', '01:34', '03:30', '00:00', '01:30', '01:00', '01:00', '23:30', '00:00', '23:30', '23:30', '00:13', '23:45', '23:00', '22:30', '00:30', '00:00', '23:00', '03:20', '03:00', '23:15', '01:30', '01:00', '01:00', '02:00', '1:00', '02:00', '22:30', '23:30', '00:00', '01:30', '00:00', '01:00', '00:00', '23:30', '00:30', '23:15', '02:30', '00:00', '22:00', '23:00', '00:00', '00:00', '3:00', '23:00', '23:00', '03:00', '04:30', '04:00', '02:00', '00:00', '01:05', '33:00', '23:30', '02:00', '22:47', '04:00', '01:30', '01:00']\n"
     ]
    }
   ],
   "source": [
    "print(Series6)"
   ]
  },
  {
   "cell_type": "code",
   "execution_count": 84,
   "metadata": {
    "collapsed": false
   },
   "outputs": [
    {
     "name": "stdout",
     "output_type": "stream",
     "text": [
      "['01:00', 'NA', '23:00', '00:30', '00:00', '21:00', '23:00', '00:00', '01:00', '02:00', '00:00', '23:45', '00:30', '01:00', '20:00', '23:30', '01:30', '01:00', '23:30', 'NA', '23:59', '23:20', '02:00', '23:30', '23:30', '01:30', '23:30', '22:20', '23:30', '01:20', '23:55', '01:00', '23:00', '02:00', 'NA', '01:00', '01:00', '01:00', '01:00', '01:15', 'NA', '01:00', '02:00', '22:00', '00:40', '23:00', '23:55', '23:00', '23:00', '23:15', '01:00', '00:00', '23:50', '01:00', '23:00', '23:30', '00:30', '01:00', '00:15', '23:15', '23:00', '01:00', '00:00', '23:05', '01:00', '02:00', '01:00', '02:00', '22:00', 'NA', '23:03', '23:00', '23:59', '01:30', '22:10', '00:30', '01:00', '01:15', '23:15', '00:00', '23:58', '01:12', '01:30', '00:30', '23:30', '04:00', '01:00', '00:30', '00:30', '01:00', '23:00', '00:00', '22:30', '23:30', '00:00', '00:30', '22:00', '02:00', '23:30', '02:00', '23:00', '22:30', '02:00', '22:45', '23:00', '01:30', '00:00', '00:00', '01:00', '01:48', '03:00', '02:00', '01:30', '23:14', '00:45', '01:00', '02:00', '01:00', '23:30', '23:30', '23:16', '23:00', '00:30', '00:25', '23:49', '23:45', '23:00', '00:30', '23:59', '00:30', '02:00', '04:40', '00:20', '02:00', '18:00', '23:45', '00:35', '23:30', '01:30', '00:00', '00:00', '03:00', '23:30', '23:00', '23:30', '03:00', '23:00', '01:15', '00:00', '01:30', '01:15', '00:30', '23:58', '02:30', '23:45', '02:00', '22:00', '23:00', '03:00', '01:34', '03:30', '00:00', '01:30', '01:00', '01:00', '23:30', '00:00', '23:30', '23:30', '00:13', '23:45', '23:00', '22:30', '00:30', '00:00', '23:00', '03:20', '03:00', '23:15', '01:30', '01:00', '01:00', '02:00', '01:00', '02:00', '22:30', '23:30', '00:00', '01:30', '00:00', '01:00', '00:00', '23:30', '00:30', '23:15', '02:30', '00:00', '22:00', '23:00', '00:00', '00:00', '03:00', '23:00', '23:00', '03:00', '04:30', '04:00', '02:00', '00:00', '01:05', '33:00', '23:30', '02:00', '22:47', '04:00', '01:30', '01:00']\n"
     ]
    }
   ],
   "source": [
    "Series7 = finish(Series6)\n",
    "print(Series7)"
   ]
  },
  {
   "cell_type": "code",
   "execution_count": 85,
   "metadata": {
    "collapsed": true
   },
   "outputs": [],
   "source": [
    "from time import gmtime, strftime"
   ]
  },
  {
   "cell_type": "code",
   "execution_count": 93,
   "metadata": {
    "collapsed": false
   },
   "outputs": [
    {
     "name": "stdout",
     "output_type": "stream",
     "text": [
      "['01.0', 'NA', '23.0', '00.2', '00.0', '21.0', '23.0', '00.0', '01.0', '02.0', '00.0', '23.1', '00.2', '01.0', '20.0', '23.2', '01.2', '01.0', '23.2', 'NA', '23.1', '23.3', '02.0', '23.2', '23.2', '01.2', '23.2', '22.3', '23.2', '01.3', '23.1', '01.0', '23.0', '02.0', 'NA', '01.0', '01.0', '01.0', '01.0', '01.4', 'NA', '01.0', '02.0', '22.0', '00.1', '23.0', '23.1', '23.0', '23.0', '23.4', '01.0', '00.0', '23.1', '01.0', '23.0', '23.2', '00.2', '01.0', '00.4', '23.4', '23.0', '01.0', '00.0', '23.12', '01.0', '02.0', '01.0', '02.0', '22.0', 'NA', '23.20', '23.0', '23.1', '01.2', '22.6', '00.2', '01.0', '01.4', '23.4', '00.0', '23.1', '01.5', '01.2', '00.2', '23.2', '04.0', '01.0', '00.2', '00.2', '01.0', '23.0', '00.0', '22.2', '23.2', '00.0', '00.2', '22.0', '02.0', '23.2', '02.0', '23.0', '22.2', '02.0', '22.1', '23.0', '01.2', '00.0', '00.0', '01.0', '01.1', '03.0', '02.0', '01.2', '23.4', '00.1', '01.0', '02.0', '01.0', '23.2', '23.2', '23.3', '23.0', '00.2', '00.2', '23.1', '23.1', '23.0', '00.2', '23.1', '00.2', '02.0', '04.1', '00.3', '02.0', '18.0', '23.1', '00.1', '23.2', '01.2', '00.0', '00.0', '03.0', '23.2', '23.0', '23.2', '03.0', '23.0', '01.4', '00.0', '01.2', '01.4', '00.2', '23.1', '02.2', '23.1', '02.0', '22.0', '23.0', '03.0', '01.1', '03.2', '00.0', '01.2', '01.0', '01.0', '23.2', '00.0', '23.2', '23.2', '00.4', '23.1', '23.0', '22.2', '00.2', '00.0', '23.0', '03.3', '03.0', '23.4', '01.2', '01.0', '01.0', '02.0', '01.0', '02.0', '22.2', '23.2', '00.0', '01.2', '00.0', '01.0', '00.0', '23.2', '00.2', '23.4', '02.2', '00.0', '22.0', '23.0', '00.0', '00.0', '03.0', '23.0', '23.0', '03.0', '04.2', '04.0', '02.0', '00.0', '01.12', '33.0', '23.2', '02.0', '22.1', '04.0', '01.2', '01.0']\n"
     ]
    }
   ],
   "source": [
    "def decimaltime(series):\n",
    "    new_series = []\n",
    "    \n",
    "    for time in series:\n",
    "        \n",
    "        \n",
    "        if time == 'NA':\n",
    "            new_series.append(time)\n",
    "        \n",
    "        else:\n",
    "            minute = time[-2:]\n",
    "            if minute != '00':\n",
    "                new_minute = 60/int(minute)\n",
    "                new_time = time[:2]\n",
    "                new_time = new_time+'.'+str(new_minute)\n",
    "                new_series.append(new_time)\n",
    "\n",
    "            else:\n",
    "                new_time = time[:2]\n",
    "                new_time = new_time+'.'+str(00)\n",
    "                new_series.append(new_time)\n",
    "        \n",
    "        \n",
    "    print(new_series)    \n",
    "    return new_series\n",
    "\n",
    "Series8 = decimaltime(Series7)"
   ]
  },
  {
   "cell_type": "code",
   "execution_count": 94,
   "metadata": {
    "collapsed": false
   },
   "outputs": [
    {
     "name": "stdout",
     "output_type": "stream",
     "text": [
      "       goodDay1 goodDay2 program MLcourse IRcourse StatsCourse DBcourse  \\\n",
      "1  productivity    sleep     QRM       no       no         yes       no   \n",
      "2         other    other      CS       no       no     unknown      yes   \n",
      "3          food    sport      BA      yes      yes          no      yes   \n",
      "4         other    other      BA      yes      yes         yes      yes   \n",
      "5         sleep   social     BDE       no       no          no      yes   \n",
      "\n",
      "  choco_op gender stand bedtime neighbors randomNum  \n",
      "1  neither   male    no    01.0       300         7  \n",
      "2  no idea   male   yes      NA       100    394749  \n",
      "3  neither   male    no    23.0         5         6  \n",
      "4  no idea   male    no    00.2         2         8  \n",
      "5  no idea   male    no    00.0         6         8  \n"
     ]
    }
   ],
   "source": [
    "standard['bedtime'] = Series8\n",
    "print(standard.head())"
   ]
  },
  {
   "cell_type": "markdown",
   "metadata": {},
   "source": [
    "Now # of neighbors"
   ]
  },
  {
   "cell_type": "code",
   "execution_count": 95,
   "metadata": {
    "collapsed": false
   },
   "outputs": [
    {
     "name": "stdout",
     "output_type": "stream",
     "text": [
      "[300, 100.0, 5.0, 2.0, 6.0, 4.0, 5.0, 5.0, 2.0, 7.0, 8.0, 6.0, 8.0, 6.0, 2.0, 1.0, 1.0, 3.0, 2.0, 1.0, 7.0, 2.0, 1.0, 5.0, 8.0, 8.0, 2.0, 2.0, 5.0, 1.0, 7.0, 4.0, 0.0, 3.0, 7.0, 1.0, 0.0, 5.0, 6.5, 'NA', 1.0, 300, 2.0, 2.0, 5.0, 300, 300, 1.0, 0.0, 7.0, 8.0, 4.0, 7.0, 10.0, 'NA', 4.0, 1.0, 8.0, 2.0, 6.0, 300, 3.0, 2.0, 7.0, 2.0, 3.0, 9.0, 2.0, 2.0, 5.0, 1.0, 7.0, 4.0, 7.0, 6.0, 1.0, 1.0, 4.0, 1.0, 1.0, 8.0, 7.0, 7.0, 1.0, 1.0, 1.0, 5.0, 6.0, 5.0, 9.0, 2.0, 300.0, 0.0, 280.0, 2.0, 7.0, 6.0, 25.0, 1.0, 10.0, 1.0, 4.0, 5.0, 3.0, 10.0, 6.0, 5.0, 2.0, 6.0, 1.0, 1.0, 4.0, 4.0, 6.0, 6.0, 1.0, 4.0, 3.0, 300.0, 7.0, 2.0, 7.0, 8.0, 8.0, 8.0, 7.0, 4.0, 8.0, 9.0, 20.0, 3.0, 1.0, 2.0, 1.0, 1.0, 8.0, 10.0, 1.0, 5.0, 1.0, 2.0, 3.0, 7.0, 4.0, 1.0, 2.0, 2.0, 6.0, 6.0, 2.0, 7.0, 5.0, 8.0, 2.0, 6.0, 4.0, 'NA', 0.0, 'NA', 7.0, 0.0, 6.0, 6.0, 300, 24.0, 6.0, 6.0, 2.0, 6.0, 2.0, 2.0, 2.0, 8.0, 8.0, 1.0, 8.0, 1.0, 7.0, 2.0, 1.0, 2.0, 1.0, 4.0, 5.0, 3.0, 3.0, 2.0, 0.0, 3.0, 6.0, 3.0, 3.0, 5.0, 1.0, 4.0, 5.0, 4.0, 'NA', 7.0, 7.0, 3.0, 1.0, 1.0, 1.0, 5.0, 2.0, 300, 7.0, 1.0, 1.0, 6.0, 2.0, 3.0, 7.0, 8.0, 5.0, 3.0]\n"
     ]
    }
   ],
   "source": [
    "# Returns floats, cutoff is 300, NA if there were any words present.\n",
    "def cutoff(series):\n",
    "    new_series = []\n",
    "    \n",
    "    # To find characters\n",
    "    reg = r'.*([a-z]|>|/).*'\n",
    "    \n",
    "    for line in series:\n",
    "        m = match(reg, line)\n",
    "        \n",
    "        if m is not None:\n",
    "            new_series.append('NA')\n",
    "        elif float(line)>300:\n",
    "            new_value = 300\n",
    "            new_series.append(new_value)\n",
    "        else:\n",
    "            new_series.append(float(line))\n",
    "            \n",
    "    print(new_series)\n",
    "    return new_series\n",
    "\n",
    "neighbors = cutoff(odi_df.neighbors)"
   ]
  },
  {
   "cell_type": "code",
   "execution_count": 96,
   "metadata": {
    "collapsed": false
   },
   "outputs": [
    {
     "name": "stdout",
     "output_type": "stream",
     "text": [
      "       goodDay1 goodDay2 program MLcourse IRcourse StatsCourse DBcourse  \\\n",
      "1  productivity    sleep     QRM       no       no         yes       no   \n",
      "2         other    other      CS       no       no     unknown      yes   \n",
      "3          food    sport      BA      yes      yes          no      yes   \n",
      "4         other    other      BA      yes      yes         yes      yes   \n",
      "5         sleep   social     BDE       no       no          no      yes   \n",
      "\n",
      "  choco_op gender stand bedtime neighbors randomNum  \n",
      "1  neither   male    no    01.0       300         7  \n",
      "2  no idea   male   yes      NA       100    394749  \n",
      "3  neither   male    no    23.0         5         6  \n",
      "4  no idea   male    no    00.2         2         8  \n",
      "5  no idea   male    no    00.0         6         8  \n"
     ]
    }
   ],
   "source": [
    "standard['neighbors'] = neighbors\n",
    "print(standard.head())"
   ]
  },
  {
   "cell_type": "code",
   "execution_count": 97,
   "metadata": {
    "collapsed": false
   },
   "outputs": [
    {
     "name": "stdout",
     "output_type": "stream",
     "text": [
      "[7.0, 394749.0, 6.0, 8.0, 8.0, 'NA', 6739.0, 3.0, 78952097.0, 5.0, 8.0, 42.0, 37.0, 7727528.0, 187.0, 7.0, 7.0, 6.0, 34.0, 7.0, 6.283949577437364e+36, 2.0, 2.0, 6.0, 7.0, 4.0, 'NA', 9.0, 4.0, 3.0, 9293746289201.0, 5.0, 3.0, 347.0, 19.0, 9.0, 1.0, 2.0, 11.0, 2.0, 2.0, 9.0, 5.0, 9.0, 32.0, 5.0, 4.0, 8.0, 4578994211.0, 33.0, 7.0, 7.0, 4.0, 6.0, 9.0, 3.0, 7.0, 8.0, 6.0, 8.0, 7.0, 1.0, 8.0, 8.0, 18.0, 2.0, 'NA', 1.0, 7.0, 0.0, 7.0, 3.0, 5.0, 7.0, 7.0, 1.0, 9.0, 7.0, 8.0, 8.0, 3.0, 4.0, 13.0, 8.0, 3.0, 4.0, 5.0, 9.0, 7.0, 5.0, 3.0, 1.0, 6.0, 1.0, 8.0, 3.0, 2.0, 5.0, 7.0, 7.0, 2.0, 1.0, 9.0, 8.0, 8.0, 7.0, 8.0, 33.0, 7.44, 46371646292.0, 9.0, 2.0, 8.0, 9.0, 3.0, 9.0, 8.0, 6.9, 9.0, 75389275660.0, 9.0, 8.0, 7.0, 7.0, 4.0, 9.0, 4.0, 6.0, 7.0, 1.0, 8.0, 2.0, 10.0, 22.0, 8.0, 123581321.0, 1987.0, 4.0, 10.0, 1.0, 10.0, 7.0, 4.0, 1.0, 6.0, 7.0, 7.0, 9.0, 8.0, 1.0, 2.0, 7.0, 3.0, 537.0, 6.0, 1.0, 'NA', 3.0, 3.0, 7.0, 4.0, 8.0, 4.0, 10.0, 8.0, 1.0, 8.0, 7.0, 2.0, 7.0, 6.0, 7.0, 4.0, 6.0, 10.0, 3.0, 4.0, 3.0, 2.0, 9.0, 8.0, 7.0, 3.0, 9.0, 7.0, 42.0, 7.0, 3.0, 4.0, 9.0, 10.0, 1.0, 9.0, 2.0, 42.0, 69.0, 9.0, 8.0, 7.0, 3.0, 'NA', 4.0, 382763.0, 7.0, 6.0, 4.0, 7.0, 7.0, 3.0, 5.0, 9.0, 6123.0, 2.0, 88.0, 2.0, 10.0, 6.0]\n"
     ]
    }
   ],
   "source": [
    "# Turn the random numbers into floats and get rid of any words present.\n",
    "def numbers(series):\n",
    "    new_series = []\n",
    "    reg = r'.*([a-z]|[A-Z]|>|/).*'\n",
    "    \n",
    "    for line in series:\n",
    "        m = match(reg, line)\n",
    "        \n",
    "        if m is not None:\n",
    "            new_value = 'NA'\n",
    "            new_series.append(new_value)\n",
    "            \n",
    "        else:\n",
    "            new_series.append(float(line))\n",
    "            \n",
    "    print(new_series)\n",
    "    return new_series\n",
    "\n",
    "randomNum = numbers(odi_df.rndnum)"
   ]
  },
  {
   "cell_type": "markdown",
   "metadata": {},
   "source": [
    "It may be more useful to change to NA values to 0, depending on what it is you want to do."
   ]
  },
  {
   "cell_type": "code",
   "execution_count": 98,
   "metadata": {
    "collapsed": false
   },
   "outputs": [
    {
     "name": "stdout",
     "output_type": "stream",
     "text": [
      "       goodDay1 goodDay2 program MLcourse IRcourse StatsCourse DBcourse  \\\n",
      "1  productivity    sleep     QRM       no       no         yes       no   \n",
      "2         other    other      CS       no       no     unknown      yes   \n",
      "3          food    sport      BA      yes      yes          no      yes   \n",
      "4         other    other      BA      yes      yes         yes      yes   \n",
      "5         sleep   social     BDE       no       no          no      yes   \n",
      "\n",
      "  choco_op gender stand bedtime neighbors randomNum  \n",
      "1  neither   male    no    01.0       300         7  \n",
      "2  no idea   male   yes      NA       100    394749  \n",
      "3  neither   male    no    23.0         5         6  \n",
      "4  no idea   male    no    00.2         2         8  \n",
      "5  no idea   male    no    00.0         6         8  \n"
     ]
    }
   ],
   "source": [
    "standard['randomNum'] = randomNum\n",
    "print(standard.head())"
   ]
  },
  {
   "cell_type": "code",
   "execution_count": 99,
   "metadata": {
    "collapsed": true
   },
   "outputs": [],
   "source": [
    "standard.to_csv('../data/standard.csv')"
   ]
  },
  {
   "cell_type": "code",
   "execution_count": null,
   "metadata": {
    "collapsed": true
   },
   "outputs": [],
   "source": []
  }
 ],
 "metadata": {
  "kernelspec": {
   "display_name": "Python 2",
   "language": "python",
   "name": "python2"
  },
  "language_info": {
   "codemirror_mode": {
    "name": "ipython",
    "version": 2
   },
   "file_extension": ".py",
   "mimetype": "text/x-python",
   "name": "python",
   "nbconvert_exporter": "python",
   "pygments_lexer": "ipython2",
   "version": "2.7.13"
  }
 },
 "nbformat": 4,
 "nbformat_minor": 2
}
