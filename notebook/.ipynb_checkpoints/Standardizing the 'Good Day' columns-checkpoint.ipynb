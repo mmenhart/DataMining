{
 "cells": [
  {
   "cell_type": "code",
   "execution_count": 1,
   "metadata": {
    "collapsed": true
   },
   "outputs": [],
   "source": [
    "import pandas as pd\n",
    "import numpy as np\n",
    "import re\n",
    "from re import match, search\n",
    "# import matplotlib.pyplot as plt\n",
    "# from sklearn.model_selection import train_test_split"
   ]
  },
  {
   "cell_type": "code",
   "execution_count": 2,
   "metadata": {
    "collapsed": false
   },
   "outputs": [],
   "source": [
    "# import csv dataset as pandas dataframe\n",
    "odi_dataframe = pd.read_csv(\"../data/ODI-2018.csv\", sep=',')"
   ]
  },
  {
   "cell_type": "code",
   "execution_count": 3,
   "metadata": {
    "collapsed": false
   },
   "outputs": [
    {
     "name": "stdout",
     "output_type": "stream",
     "text": [
      "           Timestamp               What programme are you in?  \\\n",
      "0                NaN                                      NaN   \n",
      "1  4/5/2018 11:22:56  Duisenberg Quantitative Risk Management   \n",
      "2  4/5/2018 11:23:04                         Computer Science   \n",
      "3  4/5/2018 11:23:06                       Business Analytics   \n",
      "4  4/5/2018 11:23:50                                       BA   \n",
      "\n",
      "  Have you taken a course on machine learning?  \\\n",
      "0                                          NaN   \n",
      "1                                           no   \n",
      "2                                           no   \n",
      "3                                          yes   \n",
      "4                                          yes   \n",
      "\n",
      "  Have you taken a course on information retrieval?  \\\n",
      "0                                               NaN   \n",
      "1                                                 0   \n",
      "2                                                 0   \n",
      "3                                                 1   \n",
      "4                                                 1   \n",
      "\n",
      "  Have you taken a course on statistics?  \\\n",
      "0                                    NaN   \n",
      "1                                     mu   \n",
      "2                                unknown   \n",
      "3                                  sigma   \n",
      "4                                     mu   \n",
      "\n",
      "  Have you taken a course on databases? What is your gender?  \\\n",
      "0                                   NaN                  NaN   \n",
      "1                                   nee                 male   \n",
      "2                                    ja                 male   \n",
      "3                                    ja                 male   \n",
      "4                                    ja                 male   \n",
      "\n",
      "                    Chocolate makes you..... When is your birthday (date)?  \\\n",
      "0                                        NaN                           NaN   \n",
      "1                                    neither                    10/12/1994   \n",
      "2  I have no idea what you are talking about                    06-08-1993   \n",
      "3                                    neither                25 december 92   \n",
      "4  I have no idea what you are talking about                    01-02-1995   \n",
      "\n",
      "  Number of neighbors sitting around you? Did you stand up?  \\\n",
      "0                                     NaN               NaN   \n",
      "1                                   49000                no   \n",
      "2                                     100               yes   \n",
      "3                                       5                no   \n",
      "4                                       2                no   \n",
      "\n",
      "  You can get £100 if you win a local DM competition, or we don’t hold any competitions and I give everyone some money (not the same amount!). How much do you think you would get then?   \\\n",
      "0                                                NaN                                                                                                                                        \n",
      "1                                               0.05                                                                                                                                        \n",
      "2                                        The formmer                                                                                                                                        \n",
      "3                                         Not enough                                                                                                                                        \n",
      "4                                                  0                                                                                                                                        \n",
      "\n",
      "  Give a random number Time you went to be Yesterday  \\\n",
      "0                  NaN                           NaN   \n",
      "1                    7                             1   \n",
      "2               394749                         1 a m   \n",
      "3                    6                            23   \n",
      "4                    8                           0.3   \n",
      "\n",
      "  What makes a good day for you (1)? What makes a good day for you (2)?  \n",
      "0                                NaN                                NaN  \n",
      "1                         Productive                         Good sleep  \n",
      "2                          got a 8.5                         got 2 8.5s  \n",
      "3                               Food                              Sport  \n",
      "4                                  -                                  -  \n"
     ]
    }
   ],
   "source": [
    "#check header\n",
    "print(odi_dataframe.head())"
   ]
  },
  {
   "cell_type": "code",
   "execution_count": 4,
   "metadata": {
    "collapsed": true
   },
   "outputs": [],
   "source": [
    "#copy to working dataframe\n",
    "odi_df = odi_dataframe.copy()"
   ]
  },
  {
   "cell_type": "code",
   "execution_count": 5,
   "metadata": {
    "collapsed": false
   },
   "outputs": [
    {
     "name": "stdout",
     "output_type": "stream",
     "text": [
      "           Timestamp               What programme are you in?  \\\n",
      "0                NaN                                      NaN   \n",
      "1  4/5/2018 11:22:56  Duisenberg Quantitative Risk Management   \n",
      "2  4/5/2018 11:23:04                         Computer Science   \n",
      "3  4/5/2018 11:23:06                       Business Analytics   \n",
      "4  4/5/2018 11:23:50                                       BA   \n",
      "\n",
      "  Have you taken a course on machine learning?  \\\n",
      "0                                          NaN   \n",
      "1                                           no   \n",
      "2                                           no   \n",
      "3                                          yes   \n",
      "4                                          yes   \n",
      "\n",
      "  Have you taken a course on information retrieval?  \\\n",
      "0                                               NaN   \n",
      "1                                                 0   \n",
      "2                                                 0   \n",
      "3                                                 1   \n",
      "4                                                 1   \n",
      "\n",
      "  Have you taken a course on statistics?  \\\n",
      "0                                    NaN   \n",
      "1                                     mu   \n",
      "2                                unknown   \n",
      "3                                  sigma   \n",
      "4                                     mu   \n",
      "\n",
      "  Have you taken a course on databases? What is your gender?  \\\n",
      "0                                   NaN                  NaN   \n",
      "1                                   nee                 male   \n",
      "2                                    ja                 male   \n",
      "3                                    ja                 male   \n",
      "4                                    ja                 male   \n",
      "\n",
      "                    Chocolate makes you..... When is your birthday (date)?  \\\n",
      "0                                        NaN                           NaN   \n",
      "1                                    neither                    10/12/1994   \n",
      "2  I have no idea what you are talking about                    06-08-1993   \n",
      "3                                    neither                25 december 92   \n",
      "4  I have no idea what you are talking about                    01-02-1995   \n",
      "\n",
      "  Number of neighbors sitting around you? Did you stand up?  \\\n",
      "0                                     NaN               NaN   \n",
      "1                                   49000                no   \n",
      "2                                     100               yes   \n",
      "3                                       5                no   \n",
      "4                                       2                no   \n",
      "\n",
      "  You can get £100 if you win a local DM competition, or we don’t hold any competitions and I give everyone some money (not the same amount!). How much do you think you would get then?   \\\n",
      "0                                                NaN                                                                                                                                        \n",
      "1                                               0.05                                                                                                                                        \n",
      "2                                        The formmer                                                                                                                                        \n",
      "3                                         Not enough                                                                                                                                        \n",
      "4                                                  0                                                                                                                                        \n",
      "\n",
      "  Give a random number Time you went to be Yesterday  \\\n",
      "0                  NaN                           NaN   \n",
      "1                    7                             1   \n",
      "2               394749                         1 a m   \n",
      "3                    6                            23   \n",
      "4                    8                           0.3   \n",
      "\n",
      "  What makes a good day for you (1)? What makes a good day for you (2)?  \n",
      "0                                NaN                                NaN  \n",
      "1                         Productive                         Good sleep  \n",
      "2                          got a 8.5                         got 2 8.5s  \n",
      "3                               Food                              Sport  \n",
      "4                                  -                                  -  \n"
     ]
    }
   ],
   "source": [
    "print(odi_df.head())"
   ]
  },
  {
   "cell_type": "code",
   "execution_count": 6,
   "metadata": {
    "collapsed": false
   },
   "outputs": [],
   "source": [
    "#We an irrelevant first row with NaN values: let's remove it\n",
    "odi_df = odi_df.iloc[1:]"
   ]
  },
  {
   "cell_type": "code",
   "execution_count": 7,
   "metadata": {
    "collapsed": true
   },
   "outputs": [],
   "source": [
    "def set_to_standard(series, regexs, std_value):\n",
    "   \n",
    "   changed_values = []\n",
    "   indices = []\n",
    "   std_series = series.copy()\n",
    "   \n",
    "   for index, value in std_series.iteritems():\n",
    "      for regex in regexs:\n",
    "         \n",
    "         if index in indices: #prevents an entry to be counted twice\n",
    "            continue\n",
    "         m = match(regex, value) #find match for any of the reg. expressions\n",
    "         \n",
    "      if m is not None: # if there's a match\n",
    "         changed_values.append(value)\n",
    "         indices.append(index)\n",
    "\n",
    "   print(\"The following \" + str(len(changed_values)) + \" values have been changed to: \" + std_value)\n",
    "   print(\"\")\n",
    "   print(changed_values)\n",
    "   \n",
    "   std_series[indices] = std_value\n",
    "   \n",
    "   return std_series"
   ]
  },
  {
   "cell_type": "code",
   "execution_count": 144,
   "metadata": {
    "collapsed": false
   },
   "outputs": [
    {
     "name": "stdout",
     "output_type": "stream",
     "text": [
      "The following 51 values have been changed to: weather\n",
      "\n",
      "['Sunshine', 'Sun', 'Sunny weather ', 'Sunshine', 'Sun', 'Sun', 'Nice weather ', 'Sun', 'Good weather', 'Snow', 'Sun', 'Weather', 'Sun', 'Sun ', 'Sunny day', 'nice weather', 'sunny weather', 'Sun', 'No rain', 'sunshine', 'Sun', 'sunshine', 'Sun', 'Nice weather', 'Sun', 'Sun', 'The Sun', 'Sunshine', 'Sun, music, friends, beer', 'Sunny weather', 'Good weather', 'If the sun shines', 'Sun', 'Sun', 'Nice weather', 'no rain', 'sun', 'sunny weather', 'Sunny weather ', 'Sunny day', 'sun', 'Sunshine', 'good weather', 'Sunshine', 'Sunshine', 'Sunny', 'Cloudy skies  ', 'nice weather', 'good weather', 'Sunshine, structure ', 'Sun']\n"
     ]
    }
   ],
   "source": [
    "# Filter for mention of weather\n",
    "sun_regexs = [r\"(.*[Ss]un).*|.*[Ww]eather.*|.*[Cc]loud.*|.*(?<![Tt])[Rr]ain.*|.*[Ss]now.*|.*[Ww]ind.*|[Ss]tor\"]\n",
    "standard_1 = set_to_standard(odi_df.iloc[:,14], sun_regexs, 'weather')"
   ]
  },
  {
   "cell_type": "code",
   "execution_count": 145,
   "metadata": {
    "collapsed": false
   },
   "outputs": [
    {
     "name": "stdout",
     "output_type": "stream",
     "text": [
      "The following 43 values have been changed to: food\n",
      "\n",
      "['Food', 'Chocolate', 'Chocolate', 'Food', 'Pancakes for breakfast', 'Pizza', 'Pancakes', 'Good foodd', 'Cheese', 'Food', 'Good food', 'Good food', 'Good food ', 'good food', 'Food', 'Chocolate', 'nice food', 'Food', 'Some food', 'Food', 'Food', 'chocolate', 'Receiving food', 'Plenty food', 'Mac Donalds', 'Good food', 'Good fuckin breakfast', 'Chocolate', 'Good food', 'good dinner', 'Good dinner', 'Tasty food', 'Food', 'Food', 'Good food', 'Nice food', 'Free cheese', 'Pizza', 'good food', 'Nice food', 'Food', 'Food', 'food']\n"
     ]
    }
   ],
   "source": [
    "# Try to filter for any mention of food.\n",
    "food_regexs = [r\".*([Ff]ood).*|.*[Bb]reakfast.*|.*[Pp]ancakes.*|.*[Dd]inner.*|.*[Cc]heese.*|.*[Pp]izza.*|.*[Cc]hocolate.*|[Mm]ac.*|[Ss]ush|.*[Ll]unch.*\"]\n",
    "standard_2 = set_to_standard(standard_1, food_regexs, 'food')"
   ]
  },
  {
   "cell_type": "code",
   "execution_count": 146,
   "metadata": {
    "collapsed": false
   },
   "outputs": [
    {
     "name": "stdout",
     "output_type": "stream",
     "text": [
      "The following 8 values have been changed to: sex\n",
      "\n",
      "['sex', 'Sex', 'Sex', 'Sex', 'Sex', 'Sex', 'Sex', 'Morning sex']\n"
     ]
    }
   ],
   "source": [
    "# Filter for sex\n",
    "sex_regexs = [r'.*[Ss]ex.*']\n",
    "standard_3 = set_to_standard(standard_2, sex_regexs, 'sex')"
   ]
  },
  {
   "cell_type": "code",
   "execution_count": 147,
   "metadata": {
    "collapsed": false
   },
   "outputs": [
    {
     "name": "stdout",
     "output_type": "stream",
     "text": [
      "The following 12 values have been changed to: coffee\n",
      "\n",
      "['Good coffee', 'Coffee', 'Coffee', 'Coffee', 'Coffee', 'Coffee', 'coffee', 'Coffee', 'Coffee', 'Coffee', 'Coffee', 'Coffee']\n"
     ]
    }
   ],
   "source": [
    "# Filter for coffee\n",
    "coffee_regexs = [r'.*[Cc]offe.*']\n",
    "standard_4 = set_to_standard(standard_3, coffee_regexs, 'coffee')"
   ]
  },
  {
   "cell_type": "code",
   "execution_count": 148,
   "metadata": {
    "collapsed": false
   },
   "outputs": [
    {
     "name": "stdout",
     "output_type": "stream",
     "text": [
      "The following 28 values have been changed to: sleep\n",
      "\n",
      "['sleep', 'Sleep', 'Sleep', 'Good sleep', 'Enough sleep', 'Wake up time', 'sleeping well', 'Good sleep', 'Wake up without A alarm', 'Get some good sleep', 'Sleep', 'Rest', 'Sleeping in', 'having a good sleep', 'sleeping', 'Good sleep', 'Waking up not tired', 'Having slept well', 'Not having to get up early', 'No alarm in the morning', 'waking up well rested', 'Sleep', 'Good sleep', 'A good sleep', 'Good night rest', 'Good sleep', 'Good sleep', 'Sleep']\n"
     ]
    }
   ],
   "source": [
    "# Filter for sleep\n",
    "sleep_regexs = [r'.*[Ss]leep.*|.*[Ss]lept.*|.*[Rr]est.*|.*[Ww]ak.*|[Nn]ot.*[Ee]arly.*|[Nn]o.*[Aa]larm.*|.*[Bb]ed.*']\n",
    "standard_5 = set_to_standard(standard_4, sleep_regexs, 'sleep')"
   ]
  },
  {
   "cell_type": "code",
   "execution_count": 149,
   "metadata": {
    "collapsed": false
   },
   "outputs": [
    {
     "name": "stdout",
     "output_type": "stream",
     "text": [
      "The following 6 values have been changed to: sport\n",
      "\n",
      "['Sports', 'Sports', 'Sports', 'Dance', 'Playing football', 'Sports']\n"
     ]
    }
   ],
   "source": [
    "# sport\n",
    "sport_regexs = [r'.*[Ss]port.*|.*[Ee]xerc.*|.*[Ff]ootball.*|.*[Dd]anc.*|.*[Gg]ym.*']\n",
    "standard_6 = set_to_standard(standard_5, sport_regexs, 'sport')"
   ]
  },
  {
   "cell_type": "code",
   "execution_count": 150,
   "metadata": {
    "collapsed": false
   },
   "outputs": [
    {
     "name": "stdout",
     "output_type": "stream",
     "text": [
      "The following 14 values have been changed to: productivity\n",
      "\n",
      "['Productive', 'Good grades', 'Nice grades', 'Work', 'A productive day', 'Achieving something', 'Finish my daily tasks', 'Achievement', 'Productivity', 'Succeed in dayly goal', 'A productive day', 'Success', 'Getting a good grade', 'productivity']\n"
     ]
    }
   ],
   "source": [
    "# productivity\n",
    "prod_regexs = [r'.*[Pp]rod.*|[Ww]ork.*|.*[Aa]chiev.*|.*[Ss]ucce.*|.*[Ff]in.*|.*[Gg]rade.*|.*[Ss]atis|.*[Ll]ear|.*[Cc]hal.*|.*[Cc]ompl.*|[Aa]ss.*|.*[Dd]on.*']\n",
    "standard_7= set_to_standard(standard_6, prod_regexs, 'productivity')"
   ]
  },
  {
   "cell_type": "code",
   "execution_count": 151,
   "metadata": {
    "collapsed": false
   },
   "outputs": [
    {
     "name": "stdout",
     "output_type": "stream",
     "text": [
      "The following 13 values have been changed to: relaxing\n",
      "\n",
      "['Free time', 'No homework', 'No assigments', 'Freedom', 'No school/work', 'No responsibilities', 'Free time', 'Holiday', 'No time series assignment', 'Me-Time', 'afternoon lectures', 'No lecture at 9', 'Freedom']\n"
     ]
    }
   ],
   "source": [
    "# Relaxing\n",
    "relax_regexs = [r'.*[Rr]elax.*|.*[Ff]ree.*|.*[Tt]ime.*|.*[Hh]ol.*|.*[Nn]o.*(ass.*|scho.*|homew.*|lect.*|do.*|stud.*|stre.*|wor.*|obl.*|resp.*|col.*)|[Dd]o.*no.*']\n",
    "standard_8 = set_to_standard(standard_7, relax_regexs, 'relaxing')"
   ]
  },
  {
   "cell_type": "code",
   "execution_count": 156,
   "metadata": {
    "collapsed": false
   },
   "outputs": [
    {
     "name": "stdout",
     "output_type": "stream",
     "text": [
      "The following 16 values have been changed to: social\n",
      "\n",
      "['Fun', 'beer', 'Beer', 'Laughing', 'People miding their own business', 'Fun fun fun', 'Kind people around me ', 'Laughs', 'Friendly encounters', 'Seeing friends', 'Friends', 'Fun', 'Beer', 'Hanging out', 'The foresight of a night out with friends', 'Good company']\n"
     ]
    }
   ],
   "source": [
    "# Social\n",
    "social_regexs = [r'.*[Ff]riend.*|.*[Hh]ang.*|.*[Ff]un.*|.*[Cc]ompany.*|.*[Ll]augh|.*[Bb]eer.*|.*[Pp]eop.*']\n",
    "standard_9 = set_to_standard(standard_8, social_regexs, 'social')"
   ]
  },
  {
   "cell_type": "code",
   "execution_count": 157,
   "metadata": {
    "collapsed": false
   },
   "outputs": [
    {
     "name": "stdout",
     "output_type": "stream",
     "text": [
      "The following 2 values have been changed to: media\n",
      "\n",
      "['Music', 'Music']\n"
     ]
    }
   ],
   "source": [
    "# Media\n",
    "media_regexs = [r'.*[Nn]et.*|.*[Mm]us.*|.*[Mm]em.*|.*[Gg]am.*|.*[Mm]ov.*']\n",
    "standard_10 = set_to_standard(standard_9, media_regexs, 'media')"
   ]
  },
  {
   "cell_type": "code",
   "execution_count": 158,
   "metadata": {
    "collapsed": false
   },
   "outputs": [
    {
     "name": "stdout",
     "output_type": "stream",
     "text": [
      "The following 24 values have been changed to: other\n",
      "\n",
      "['got a 8.5', '-', 'Cats', 'Puppies', 'Jezus man', 'Energy', 'cats', 'Saturday', '-', 'Not coming to VU', 'Fox news', 'Bunnies', 'Saturday', 'Relief', 'Getting my salary', 'Morning tea', 'Nothing', 'Na', 'Things to do', 'A', '1', 'Guest lecture by Tupac', 'Temptation Island', 'A good book']\n"
     ]
    }
   ],
   "source": [
    "other_regexs = [r'^(?!.*(productivity|food|coffee|weather|social|relaxing|sport|sex|sleep|media))']\n",
    "standard_11 = set_to_standard(standard_10, other_regexs, 'other')"
   ]
  },
  {
   "cell_type": "code",
   "execution_count": 159,
   "metadata": {
    "collapsed": false,
    "scrolled": true
   },
   "outputs": [
    {
     "data": {
      "text/plain": [
       "weather         51\n",
       "food            43\n",
       "sleep           28\n",
       "other           24\n",
       "social          16\n",
       "productivity    14\n",
       "relaxing        13\n",
       "coffee          12\n",
       "sex              8\n",
       "sport            6\n",
       "media            2\n",
       "Name: What makes a good day for you (1)?, dtype: int64"
      ]
     },
     "execution_count": 159,
     "metadata": {},
     "output_type": "execute_result"
    }
   ],
   "source": [
    "standard_11.value_counts()"
   ]
  },
  {
   "cell_type": "code",
   "execution_count": 102,
   "metadata": {
    "collapsed": false
   },
   "outputs": [
    {
     "name": "stdout",
     "output_type": "stream",
     "text": [
      "The following 26 values have been changed to: weather\n",
      "\n",
      "['Rain', 'Sunshine', 'No wind', 'sunshine', 'Sun', 'Storm', 'Sun shining', 'Nice weather', 'Sunday', 'Sun', 'Good weather', 'Sunshine', 'sunshine', 'nice weather', 'Sun', 'Sunday', 'sun', 'sun', 'Sunshine', 'Weather', 'Sunshine', 'Sunny day', 'weather', 'Good and sunny weather', 'Sun', 'Following 4 courses at the same time, rain']\n"
     ]
    }
   ],
   "source": [
    "# Filter for mention of weather\n",
    "sun_regexs = [r\"(.*[Ss]un).*|.*[Ww]eather.*|.*[Cc]loud.*|.*(?<![Tt])[Rr]ain.*|.*[Ss]now.*|.*[Ww]ind.*|[Ss]tor\"]\n",
    "stand_1 = set_to_standard(odi_df.iloc[:,15], sun_regexs, 'weather')"
   ]
  },
  {
   "cell_type": "code",
   "execution_count": 103,
   "metadata": {
    "collapsed": false
   },
   "outputs": [
    {
     "name": "stdout",
     "output_type": "stream",
     "text": [
      "The following 37 values have been changed to: food\n",
      "\n",
      "['More chocolate', 'Good food ', 'Pizza', 'Lot of foodd', 'good food', 'Good food', 'Food', 'Good food', 'Pizza', 'Food', 'Food', 'Chocolate', 'Sushi', 'Food', 'pizza', 'Food', 'Lunch', 'Good food', 'Nice food', 'Good food', 'good food', 'Good food', 'Good dinner', 'Decent dinner', 'Goos food', 'Good food', 'Chocolate', 'Nice food', 'Breakfast', 'Asian food', 'Good food', 'Food', 'Food ', 'sushi', 'Food', 'Chocolate', 'Cheese']\n"
     ]
    }
   ],
   "source": [
    "# Try to filter for any mention of food.\n",
    "food_regexs = [r\".*([Ff]ood).*|.*[Bb]reakfast.*|.*[Pp]ancakes.*|.*[Dd]inner.*|.*[Cc]heese.*|.*[Pp]izza.*|.*[Cc]hocolate.*|[Mm]ac.*|[Ss]ush|.*[Ll]unch.*\"]\n",
    "stand_2 = set_to_standard(stand_1, food_regexs, 'food')"
   ]
  },
  {
   "cell_type": "code",
   "execution_count": 104,
   "metadata": {
    "collapsed": false
   },
   "outputs": [
    {
     "name": "stdout",
     "output_type": "stream",
     "text": [
      "The following 4 values have been changed to: sex\n",
      "\n",
      "['Good sex ', 'sex', 'Sex', 'Sex']\n"
     ]
    }
   ],
   "source": [
    "# Filter for sex\n",
    "sex_regexs = [r'.*[Ss]ex.*']\n",
    "stand_3 = set_to_standard(stand_2, sex_regexs, 'sex')"
   ]
  },
  {
   "cell_type": "code",
   "execution_count": 105,
   "metadata": {
    "collapsed": false
   },
   "outputs": [
    {
     "name": "stdout",
     "output_type": "stream",
     "text": [
      "The following 11 values have been changed to: coffee\n",
      "\n",
      "['Coffee', 'Coffee', 'coffee', 'coffee', 'Coffee', 'good coffee ', 'Coffee', 'Coffee', 'Coffe', 'Good coffee', 'Good coffee']\n"
     ]
    }
   ],
   "source": [
    "# Filter for coffee\n",
    "coffee_regexs = [r'.*[Cc]offe.*']\n",
    "stand_4 = set_to_standard(stand_3, coffee_regexs, 'coffee')"
   ]
  },
  {
   "cell_type": "code",
   "execution_count": 106,
   "metadata": {
    "collapsed": false
   },
   "outputs": [
    {
     "name": "stdout",
     "output_type": "stream",
     "text": [
      "The following 21 values have been changed to: sleep\n",
      "\n",
      "['Good sleep', 'Good night sleep', 'No alarm', 'enough sleep', 'Wake-up time', 'sleep', 'Sleep', 'Sleep', 'Good sleep', 'Plenty sleep', 'A good sleep', 'Sleep', 'A good nice sleep', 'Getting to bed early', 'sleeping in', 'Good sleep', 'Having the house quiet ehrn i wake up', 'get fast asleep quickly', 'Good sleep', 'Sleep well', 'Well rested and structured']\n"
     ]
    }
   ],
   "source": [
    "# Filter for sleep\n",
    "sleep_regexs = [r'.*[Ss]leep.*|.*[Ss]lept.*|.*[Rr]est.*|.*[Ww]ak.*|[Nn]ot.*[Ee]arly.*|[Nn]o.*[Aa]larm.*|.*[Bb]ed.*']\n",
    "stand_5 = set_to_standard(stand_4, sleep_regexs, 'sleep')"
   ]
  },
  {
   "cell_type": "code",
   "execution_count": 107,
   "metadata": {
    "collapsed": false
   },
   "outputs": [
    {
     "name": "stdout",
     "output_type": "stream",
     "text": [
      "The following 10 values have been changed to: sport\n",
      "\n",
      "['Sport', 'Go to the gym', 'Sports', 'Exercise', 'Going to the gym', 'Football', 'Exercise', 'Sports', 'Going to the gym', 'Sports']\n"
     ]
    }
   ],
   "source": [
    "# sport\n",
    "sport_regexs = [r'.*[Ss]port.*|.*[Ee]xerc.*|.*[Ff]ootball.*|.*[Dd]anc.*|.*[Gg]ym.*']\n",
    "stand_6 = set_to_standard(stand_5, sport_regexs, 'sport')"
   ]
  },
  {
   "cell_type": "code",
   "execution_count": 122,
   "metadata": {
    "collapsed": false
   },
   "outputs": [
    {
     "name": "stdout",
     "output_type": "stream",
     "text": [
      "The following 13 values have been changed to: productivity\n",
      "\n",
      "['All grades', 'Good grades', 'Challenge ', 'Learning something', 'Finishing some work', 'Completing my task', 'Being productive', 'assignmeny done', 'Get satisfaction at work', 'Productive', 'Getting work done', 'Productivity', 'Achievement']\n"
     ]
    }
   ],
   "source": [
    "# productivity\n",
    "prod_regexs = [r'.*[Pp]rod.*|[Ww]ork.*|.*[Aa]chiev.*|.*[Ss]ucce.*|.*[Ff]in.*|.*[Gg]rade.*|.*[Ss]atis|.*[Ll]ear|.*[Cc]hal.*|.*[Cc]ompl.*|[Aa]ss.*|.*[Dd]on.*']\n",
    "stand_7= set_to_standard(stand_6, prod_regexs, 'productivity')"
   ]
  },
  {
   "cell_type": "code",
   "execution_count": 123,
   "metadata": {
    "collapsed": false
   },
   "outputs": [
    {
     "name": "stdout",
     "output_type": "stream",
     "text": [
      "The following 32 values have been changed to: relaxing\n",
      "\n",
      "['Doing nothing ', 'More free time', 'Relax', 'Freedom', 'No school ', 'Relaxation', 'Free time', 'Freedom', 'No school', 'Not studying', 'No stress', 'No worries', 'Free time', 'No stress', 'no work appointments', 'No lectures', 'Bike not braking down', 'no obligations', 'Relaxation', 'Noting to do', 'free day', 'some free time', 'free time', 'No stress', 'Not too much to do', 'Have nothing to do', 'Not having Anything to do', 'No college', 'fun time', 'No lectures', 'Free time ', 'Relax']\n"
     ]
    }
   ],
   "source": [
    "# Relaxing\n",
    "relax_regexs = [r'.*[Rr]elax.*|.*[Ff]ree.*|.*[Tt]ime.*|.*[Hh]ol.*|.*[Nn]o.*(ass.*|scho.*|homew.*|lect.*|do.*|stud.*|stre.*|wor.*|obl.*|resp.*|col.*)|[Dd]o.*no.*']\n",
    "stand_8 = set_to_standard(stand_7, relax_regexs, 'relaxing')"
   ]
  },
  {
   "cell_type": "code",
   "execution_count": 136,
   "metadata": {
    "collapsed": false
   },
   "outputs": [
    {
     "name": "stdout",
     "output_type": "stream",
     "text": [
      "The following 22 values have been changed to: social\n",
      "\n",
      "['beer', 'Friends', 'Beer', 'Beer', 'Lovely people', 'Beer', 'Friends', 'Beer', 'a lot of fun ', 'A day with company', 'beer', 'laughter', 'Friends', 'Friends', 'Being with my friends', 'Meeting with friends', 'A day with company', 'Meeting awesome people', 'Be around nice people', 'Nice people', 'friends', 'The taste of that first sip of cold beer on a hot summer day']\n"
     ]
    }
   ],
   "source": [
    "# Social\n",
    "social_regexs = [r'.*[Ff]riend.*|.*[Hh]ang.*|.*[Ff]un.*|.*[Cc]ompany.*|.*[Ll]augh|.*[Bb]eer.*|.*[Pp]eop.*']\n",
    "stand_9 = set_to_standard(stand_8, social_regexs, 'social')"
   ]
  },
  {
   "cell_type": "code",
   "execution_count": 140,
   "metadata": {
    "collapsed": false
   },
   "outputs": [
    {
     "name": "stdout",
     "output_type": "stream",
     "text": [
      "The following 8 values have been changed to: media\n",
      "\n",
      "['Netflix', 'Music', 'Gaming', 'Netflix', 'Video games', 'Watch a movie', 'Memes ', 'Music']\n"
     ]
    }
   ],
   "source": [
    "# Media\n",
    "media_regexs = [r'.*[Nn]et.*|.*[Mm]us.*|.*[Mm]em.*|.*[Gg]am.*|.*[Mm]ov.*']\n",
    "stand_10 = set_to_standard(stand_9, media_regexs, 'media')"
   ]
  },
  {
   "cell_type": "code",
   "execution_count": 141,
   "metadata": {
    "collapsed": false
   },
   "outputs": [
    {
     "name": "stdout",
     "output_type": "stream",
     "text": [
      "The following 33 values have been changed to: other\n",
      "\n",
      "['got 2 8.5s', '-', 'Wine', 'A blunt', 'Te diep', 'Smiles', 'Sea', '-', 'Money', 'A good day', 'Winning the lotery', 'Flying', 'If I got up with the correct leg', 'Future plans being solid', 'Drugs', 'fast train', 'Nothing, I hate life', 'Good news', 'Drinks', 'Na', 'Staying up late', 'B', 'Not it being bad', 'Seeing you *kiss*', '.', 'new experiences', 'weekend', 'No compile errors on first try', 'no pain', '2', '0 heart attacks', 'Money', 'Activities']\n"
     ]
    }
   ],
   "source": [
    "other_regexs = [r'^(?!.*(productivity|food|coffee|weather|social|relaxing|sport|sex|sleep|media))']\n",
    "stand_11 = set_to_standard(stand_10, other_regexs, 'other')"
   ]
  },
  {
   "cell_type": "code",
   "execution_count": 143,
   "metadata": {
    "collapsed": false
   },
   "outputs": [
    {
     "data": {
      "text/plain": [
       "food            37\n",
       "other           33\n",
       "relaxing        32\n",
       "weather         26\n",
       "social          22\n",
       "sleep           21\n",
       "productivity    13\n",
       "coffee          11\n",
       "sport           10\n",
       "media            8\n",
       "sex              4\n",
       "Name: What makes a good day for you (2)?, dtype: int64"
      ]
     },
     "execution_count": 143,
     "metadata": {},
     "output_type": "execute_result"
    }
   ],
   "source": [
    "stand_11.value_counts()"
   ]
  },
  {
   "cell_type": "code",
   "execution_count": null,
   "metadata": {
    "collapsed": true
   },
   "outputs": [],
   "source": []
  }
 ],
 "metadata": {
  "kernelspec": {
   "display_name": "Python 2",
   "language": "python",
   "name": "python2"
  },
  "language_info": {
   "codemirror_mode": {
    "name": "ipython",
    "version": 2
   },
   "file_extension": ".py",
   "mimetype": "text/x-python",
   "name": "python",
   "nbconvert_exporter": "python",
   "pygments_lexer": "ipython2",
   "version": "2.7.13"
  }
 },
 "nbformat": 4,
 "nbformat_minor": 2
}
