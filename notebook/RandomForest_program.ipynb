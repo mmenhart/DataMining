{
 "cells": [
  {
   "cell_type": "code",
   "execution_count": 1,
   "metadata": {
    "collapsed": true
   },
   "outputs": [],
   "source": [
    "# Import required libraries\n",
    "import pandas as pd\n",
    "import numpy as np  \n",
    "import matplotlib.pyplot as plt \n",
    "from sklearn import tree\n",
    "from sklearn.tree import DecisionTreeClassifier\n",
    "from sklearn.ensemble import RandomForestClassifier\n",
    "from sklearn.model_selection import GridSearchCV\n",
    "from sklearn.metrics import accuracy_score\n",
    "from sklearn.model_selection import train_test_split"
   ]
  },
  {
   "cell_type": "code",
   "execution_count": 2,
   "metadata": {
    "collapsed": true
   },
   "outputs": [],
   "source": [
    "# import csv dataset as pandas dataframe\n",
    "df = pd.read_csv(\"../data/encoded.csv\", sep=',')"
   ]
  },
  {
   "cell_type": "code",
   "execution_count": 3,
   "metadata": {
    "collapsed": false
   },
   "outputs": [
    {
     "name": "stdout",
     "output_type": "stream",
     "text": [
      "   goodDay1_coffee  goodDay1_food  goodDay1_media  goodDay1_other  \\\n",
      "0                0              0               0               0   \n",
      "1                0              0               0               1   \n",
      "2                0              1               0               0   \n",
      "3                0              0               0               1   \n",
      "4                0              0               0               0   \n",
      "\n",
      "   goodDay1_productivity  goodDay1_relaxing  goodDay1_sex  goodDay1_sleep  \\\n",
      "0                      1                  0             0               0   \n",
      "1                      0                  0             0               0   \n",
      "2                      0                  0             0               0   \n",
      "3                      0                  0             0               0   \n",
      "4                      0                  0             0               1   \n",
      "\n",
      "   goodDay1_social  goodDay1_sport    ...      choco_op_unknown  \\\n",
      "0                0               0    ...                     0   \n",
      "1                0               0    ...                     0   \n",
      "2                0               0    ...                     0   \n",
      "3                0               0    ...                     0   \n",
      "4                0               0    ...                     0   \n",
      "\n",
      "   gender_female  gender_male  gender_unknown  stand_no  stand_unknown  \\\n",
      "0              0            1               0         1              0   \n",
      "1              0            1               0         0              0   \n",
      "2              0            1               0         1              0   \n",
      "3              0            1               0         1              0   \n",
      "4              0            1               0         1              0   \n",
      "\n",
      "   stand_yes  bedtime  neighbors  randomNum  \n",
      "0          0      1.0      300.0        7.0  \n",
      "1          1      NaN      100.0   394749.0  \n",
      "2          0     23.0        5.0        6.0  \n",
      "3          0      0.2        2.0        8.0  \n",
      "4          0      0.0        6.0        8.0  \n",
      "\n",
      "[5 rows x 58 columns]\n"
     ]
    }
   ],
   "source": [
    "df1 = df.iloc[:, 1:60]\n",
    "print(df1.head())"
   ]
  },
  {
   "cell_type": "code",
   "execution_count": 4,
   "metadata": {
    "collapsed": true
   },
   "outputs": [],
   "source": [
    "# import standard dataframe for the program column to use as Y variable\n",
    "standard = pd.read_csv(\"../data/standard.csv\", sep=',')"
   ]
  },
  {
   "cell_type": "code",
   "execution_count": 5,
   "metadata": {
    "collapsed": false
   },
   "outputs": [
    {
     "data": {
      "text/html": [
       "<div>\n",
       "<style scoped>\n",
       "    .dataframe tbody tr th:only-of-type {\n",
       "        vertical-align: middle;\n",
       "    }\n",
       "\n",
       "    .dataframe tbody tr th {\n",
       "        vertical-align: top;\n",
       "    }\n",
       "\n",
       "    .dataframe thead th {\n",
       "        text-align: right;\n",
       "    }\n",
       "</style>\n",
       "<table border=\"1\" class=\"dataframe\">\n",
       "  <thead>\n",
       "    <tr style=\"text-align: right;\">\n",
       "      <th></th>\n",
       "      <th>goodDay1_coffee</th>\n",
       "      <th>goodDay1_food</th>\n",
       "      <th>goodDay1_media</th>\n",
       "      <th>goodDay1_other</th>\n",
       "      <th>goodDay1_productivity</th>\n",
       "      <th>goodDay1_relaxing</th>\n",
       "      <th>goodDay1_sex</th>\n",
       "      <th>goodDay1_sleep</th>\n",
       "      <th>goodDay1_social</th>\n",
       "      <th>goodDay1_sport</th>\n",
       "      <th>...</th>\n",
       "      <th>gender_female</th>\n",
       "      <th>gender_male</th>\n",
       "      <th>gender_unknown</th>\n",
       "      <th>stand_no</th>\n",
       "      <th>stand_unknown</th>\n",
       "      <th>stand_yes</th>\n",
       "      <th>bedtime</th>\n",
       "      <th>neighbors</th>\n",
       "      <th>randomNum</th>\n",
       "      <th>program</th>\n",
       "    </tr>\n",
       "  </thead>\n",
       "  <tbody>\n",
       "    <tr>\n",
       "      <th>0</th>\n",
       "      <td>0</td>\n",
       "      <td>0</td>\n",
       "      <td>0</td>\n",
       "      <td>0</td>\n",
       "      <td>1</td>\n",
       "      <td>0</td>\n",
       "      <td>0</td>\n",
       "      <td>0</td>\n",
       "      <td>0</td>\n",
       "      <td>0</td>\n",
       "      <td>...</td>\n",
       "      <td>0</td>\n",
       "      <td>1</td>\n",
       "      <td>0</td>\n",
       "      <td>1</td>\n",
       "      <td>0</td>\n",
       "      <td>0</td>\n",
       "      <td>1.0</td>\n",
       "      <td>300.0</td>\n",
       "      <td>7.0</td>\n",
       "      <td>QRM</td>\n",
       "    </tr>\n",
       "    <tr>\n",
       "      <th>1</th>\n",
       "      <td>0</td>\n",
       "      <td>0</td>\n",
       "      <td>0</td>\n",
       "      <td>1</td>\n",
       "      <td>0</td>\n",
       "      <td>0</td>\n",
       "      <td>0</td>\n",
       "      <td>0</td>\n",
       "      <td>0</td>\n",
       "      <td>0</td>\n",
       "      <td>...</td>\n",
       "      <td>0</td>\n",
       "      <td>1</td>\n",
       "      <td>0</td>\n",
       "      <td>0</td>\n",
       "      <td>0</td>\n",
       "      <td>1</td>\n",
       "      <td>NaN</td>\n",
       "      <td>100.0</td>\n",
       "      <td>394749.0</td>\n",
       "      <td>CS</td>\n",
       "    </tr>\n",
       "    <tr>\n",
       "      <th>2</th>\n",
       "      <td>0</td>\n",
       "      <td>1</td>\n",
       "      <td>0</td>\n",
       "      <td>0</td>\n",
       "      <td>0</td>\n",
       "      <td>0</td>\n",
       "      <td>0</td>\n",
       "      <td>0</td>\n",
       "      <td>0</td>\n",
       "      <td>0</td>\n",
       "      <td>...</td>\n",
       "      <td>0</td>\n",
       "      <td>1</td>\n",
       "      <td>0</td>\n",
       "      <td>1</td>\n",
       "      <td>0</td>\n",
       "      <td>0</td>\n",
       "      <td>23.0</td>\n",
       "      <td>5.0</td>\n",
       "      <td>6.0</td>\n",
       "      <td>BA</td>\n",
       "    </tr>\n",
       "    <tr>\n",
       "      <th>3</th>\n",
       "      <td>0</td>\n",
       "      <td>0</td>\n",
       "      <td>0</td>\n",
       "      <td>1</td>\n",
       "      <td>0</td>\n",
       "      <td>0</td>\n",
       "      <td>0</td>\n",
       "      <td>0</td>\n",
       "      <td>0</td>\n",
       "      <td>0</td>\n",
       "      <td>...</td>\n",
       "      <td>0</td>\n",
       "      <td>1</td>\n",
       "      <td>0</td>\n",
       "      <td>1</td>\n",
       "      <td>0</td>\n",
       "      <td>0</td>\n",
       "      <td>0.2</td>\n",
       "      <td>2.0</td>\n",
       "      <td>8.0</td>\n",
       "      <td>BA</td>\n",
       "    </tr>\n",
       "    <tr>\n",
       "      <th>4</th>\n",
       "      <td>0</td>\n",
       "      <td>0</td>\n",
       "      <td>0</td>\n",
       "      <td>0</td>\n",
       "      <td>0</td>\n",
       "      <td>0</td>\n",
       "      <td>0</td>\n",
       "      <td>1</td>\n",
       "      <td>0</td>\n",
       "      <td>0</td>\n",
       "      <td>...</td>\n",
       "      <td>0</td>\n",
       "      <td>1</td>\n",
       "      <td>0</td>\n",
       "      <td>1</td>\n",
       "      <td>0</td>\n",
       "      <td>0</td>\n",
       "      <td>0.0</td>\n",
       "      <td>6.0</td>\n",
       "      <td>8.0</td>\n",
       "      <td>BDE</td>\n",
       "    </tr>\n",
       "  </tbody>\n",
       "</table>\n",
       "<p>5 rows × 59 columns</p>\n",
       "</div>"
      ],
      "text/plain": [
       "   goodDay1_coffee  goodDay1_food  goodDay1_media  goodDay1_other  \\\n",
       "0                0              0               0               0   \n",
       "1                0              0               0               1   \n",
       "2                0              1               0               0   \n",
       "3                0              0               0               1   \n",
       "4                0              0               0               0   \n",
       "\n",
       "   goodDay1_productivity  goodDay1_relaxing  goodDay1_sex  goodDay1_sleep  \\\n",
       "0                      1                  0             0               0   \n",
       "1                      0                  0             0               0   \n",
       "2                      0                  0             0               0   \n",
       "3                      0                  0             0               0   \n",
       "4                      0                  0             0               1   \n",
       "\n",
       "   goodDay1_social  goodDay1_sport   ...     gender_female  gender_male  \\\n",
       "0                0               0   ...                 0            1   \n",
       "1                0               0   ...                 0            1   \n",
       "2                0               0   ...                 0            1   \n",
       "3                0               0   ...                 0            1   \n",
       "4                0               0   ...                 0            1   \n",
       "\n",
       "   gender_unknown  stand_no  stand_unknown  stand_yes  bedtime  neighbors  \\\n",
       "0               0         1              0          0      1.0      300.0   \n",
       "1               0         0              0          1      NaN      100.0   \n",
       "2               0         1              0          0     23.0        5.0   \n",
       "3               0         1              0          0      0.2        2.0   \n",
       "4               0         1              0          0      0.0        6.0   \n",
       "\n",
       "   randomNum  program  \n",
       "0        7.0      QRM  \n",
       "1   394749.0       CS  \n",
       "2        6.0       BA  \n",
       "3        8.0       BA  \n",
       "4        8.0      BDE  \n",
       "\n",
       "[5 rows x 59 columns]"
      ]
     },
     "execution_count": 5,
     "metadata": {},
     "output_type": "execute_result"
    }
   ],
   "source": [
    "df1[\"program\"]=standard.program\n",
    "df1.head()"
   ]
  },
  {
   "cell_type": "code",
   "execution_count": 13,
   "metadata": {
    "collapsed": false
   },
   "outputs": [
    {
     "name": "stdout",
     "output_type": "stream",
     "text": [
      "(217, 59)\n",
      "(217, 49)\n"
     ]
    }
   ],
   "source": [
    "# Get rid of the one hot encoded program columns (10 columns)\n",
    "print(df1.shape)\n",
    "without_program = df1.drop(df1.columns[22:32], axis=1)\n",
    "print(without_program.shape)"
   ]
  },
  {
   "cell_type": "code",
   "execution_count": 14,
   "metadata": {
    "collapsed": false
   },
   "outputs": [
    {
     "data": {
      "text/plain": [
       "203"
      ]
     },
     "execution_count": 14,
     "metadata": {},
     "output_type": "execute_result"
    }
   ],
   "source": [
    "# Some classifiers error out when NA is present.\n",
    "clean = without_program.dropna()\n",
    "len(clean)"
   ]
  },
  {
   "cell_type": "code",
   "execution_count": 15,
   "metadata": {
    "collapsed": false
   },
   "outputs": [],
   "source": [
    "# Assign data to X and y\n",
    "X_data = clean.drop('program', axis=1)\n",
    "y_data = clean.program"
   ]
  },
  {
   "cell_type": "code",
   "execution_count": 16,
   "metadata": {
    "collapsed": false
   },
   "outputs": [],
   "source": [
    "# Split the data into train and testing, must be stratified, especially since classes are inbalanced.\n",
    "X_train, X_test, y_train, y_test = train_test_split(X_data, y_data, stratify=y_data, test_size=0.30)"
   ]
  },
  {
   "cell_type": "code",
   "execution_count": 17,
   "metadata": {
    "collapsed": true
   },
   "outputs": [],
   "source": [
    "# Turn bedtime into an actual number (float)\n",
    "for time in X_train.bedtime:\n",
    "    me = float(time)\n"
   ]
  },
  {
   "cell_type": "code",
   "execution_count": null,
   "metadata": {
    "collapsed": true
   },
   "outputs": [],
   "source": []
  },
  {
   "cell_type": "code",
   "execution_count": 19,
   "metadata": {
    "collapsed": false
   },
   "outputs": [
    {
     "name": "stdout",
     "output_type": "stream",
     "text": [
      "(0.40845070422535212, {'max_features': 15, 'n_estimators': 10})\n"
     ]
    }
   ],
   "source": [
    "'''\n",
    "Search for the best parameters (max_features = # features to consider at each branch, n_estimators = # trees in the forest, cv = kfolds) \n",
    "using GridsearchCV\n",
    "'''\n",
    "\n",
    "parameters = {'max_features':range(1,49), 'n_estimators':range(5,20)}\n",
    "clf = GridSearchCV(RandomForestClassifier(), parameters, n_jobs=4, cv=3)\n",
    "clf.fit(X_train, y_train)\n",
    "tree_model = clf.best_estimator_\n",
    "print (clf.best_score_, clf.best_params_)"
   ]
  },
  {
   "cell_type": "code",
   "execution_count": 20,
   "metadata": {
    "collapsed": false
   },
   "outputs": [
    {
     "data": {
      "text/plain": [
       "RandomForestClassifier(bootstrap=True, class_weight=None, criterion='entropy',\n",
       "            max_depth=None, max_features=15, max_leaf_nodes=None,\n",
       "            min_impurity_split=1e-07, min_samples_leaf=1,\n",
       "            min_samples_split=2, min_weight_fraction_leaf=0.0,\n",
       "            n_estimators=10, n_jobs=1, oob_score=False, random_state=None,\n",
       "            verbose=0, warm_start=False)"
      ]
     },
     "execution_count": 20,
     "metadata": {},
     "output_type": "execute_result"
    }
   ],
   "source": [
    "# Create forest with the best parameters\n",
    "forest = RandomForestClassifier(max_features=15, n_estimators=10, criterion='entropy')\n",
    "forest.fit(X_train, y_train)"
   ]
  },
  {
   "cell_type": "code",
   "execution_count": 21,
   "metadata": {
    "collapsed": false
   },
   "outputs": [
    {
     "data": {
      "text/plain": [
       "0.34426229508196721"
      ]
     },
     "execution_count": 21,
     "metadata": {},
     "output_type": "execute_result"
    }
   ],
   "source": [
    "# Test the accuracy of the random forest model on the test set.\n",
    "y_predicted = forest.predict(X_test)\n",
    "accuracy_score(y_test, y_predicted)"
   ]
  }
 ],
 "metadata": {
  "kernelspec": {
   "display_name": "Python 2",
   "language": "python",
   "name": "python2"
  },
  "language_info": {
   "codemirror_mode": {
    "name": "ipython",
    "version": 2
   },
   "file_extension": ".py",
   "mimetype": "text/x-python",
   "name": "python",
   "nbconvert_exporter": "python",
   "pygments_lexer": "ipython2",
   "version": "2.7.13"
  }
 },
 "nbformat": 4,
 "nbformat_minor": 2
}
